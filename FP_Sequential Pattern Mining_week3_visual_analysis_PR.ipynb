{
 "cells": [
  {
   "cell_type": "markdown",
   "metadata": {},
   "source": [
    "# <center> Идентификация пользователей по посещенным веб-страницам\n",
    "<img src='http://i.istockimg.com/file_thumbview_approve/21546327/5/stock-illustration-21546327-identification-de-l-utilisateur.jpg'>\n",
    "\n",
    "# <center> Визуальный анализ данных и построение признаков\n",
    "\n",
    "На 3 неделе мы займемся визуальным анализом данных и построением признаков. Сначала мы вместе построим и проанализируем несколько признаков, потом Вы сможете сами придумать и описать различные признаки. Задание имеет вид Peer-Review, так что творчество здесь активно приветствуется. Если задействуете IPython-виджеты, библиотеку Plotly, анимации и прочий интерактив, всем от этого будет только лучше.\n",
    "\n",
    "**План:**\n",
    " - Часть 1. Построение признаков и визуальный анализ данных\n",
    " - Часть 2. Визуальный анализ данных\n",
    " - Часть 3. Дальнейшее построение признаков\n",
    " \n",
    "\n",
    "   \n",
    "**Также  будет использоваться библиотека Seaborn (ее можно дополнительно установить командой *conda install seaborn*), будет полезно обращаться к документациям [Matplotlib](http://matplotlib.org/users/) и [Seaborn](http://seaborn.pydata.org/), а также к примерам визуализации, описанным на StackOverflow.**\n",
    "\n"
   ]
  },
  {
   "cell_type": "markdown",
   "metadata": {},
   "source": [
    "## Часть 1. Построение признаков"
   ]
  },
  {
   "cell_type": "code",
   "execution_count": 1,
   "metadata": {},
   "outputs": [
    {
     "name": "stdout",
     "output_type": "stream",
     "text": [
      "Populating the interactive namespace from numpy and matplotlib\n"
     ]
    }
   ],
   "source": [
    "from __future__ import division, print_function\n",
    "# отключим всякие предупреждения Anaconda\n",
    "import warnings\n",
    "warnings.filterwarnings('ignore')\n",
    "from glob import glob\n",
    "import numpy as np\n",
    "import pandas as pd\n",
    "pd.set_option('display.max.columns', 25)\n",
    "import pickle\n",
    "#conda install seaborn\n",
    "import seaborn as sns\n",
    "%pylab inline"
   ]
  },
  {
   "cell_type": "markdown",
   "metadata": {},
   "source": [
    "**Создаем на основе функций *prepare_train_set* и *prepare_sparse_train_set_window*  новую – *prepare_train_set_with_fe*, (от \"feature engineering\"), создаем следующие 13 признаков:**\n",
    "- time_diff1, ..., time_diff9 – промежутки между посещением 1 и 2 сайта, ..., 9 и 10 сайта в сессии (в секундах). Посещения сайтов не сторого упорядочены по времени, поэтому эти величины где-то могут быть отрицательными. Если сайтов в сессии меньше 10, разницы можно сделать нулевыми\n",
    "- session_timespan – продолжительность сессии. Из-за того, что посещения сайтов не сторого упорядочены по времени, продолжительностью сессии будем считать разницу между максимальным и минимальным временем посещения сайтов в сессии (в секундах).\n",
    "- #unique_sites – число уникальных сайтов в сессии \n",
    "- start_hour – час начала сессии (то есть час в записи минимального timestamp среди десяти)\n",
    "- day_of_week – день недели (то есть день недели в записи минимального timestamp среди десяти)\n",
    "\n",
    "Функция должна возвращать новый DataFrame (как возвращала функция *prepare_train_set*), только признаков должно быть на 13 больше. Порядок, в котором добавляются признаки: *site1*, ... *site10*, *time_diff1*, ..., *time_diff9*, *session_timespan*, *#unique_sites*, *start_hour*,*day_of_week*,*target* (это видно и чуть ниже по тому, как функция вызывается)."
   ]
  },
  {
   "cell_type": "code",
   "execution_count": 2,
   "metadata": {},
   "outputs": [],
   "source": [
    "def prepare_train_set_with_fe(csv_files_mask, site_freq_path, feature_names,\n",
    "                                    session_length=10, window_size=10):\n",
    "    ''' input \n",
    "    csv_files_mask = dir of session files,\n",
    "    site_freq_path = dir of dictionary,\n",
    "    feature_names  = names of the features\n",
    "    session_length = N size of the session ,\n",
    "    window_size    = M size of the window\n",
    "    output \n",
    "    dataFrame where  site1,...site(N) are the site in the session \n",
    "            time_diff1,... time_diff(N-1) are the difference between the open time of each site in the session\n",
    "            unique_site is the number of the unique site in the session\n",
    "            start_hour is the hour of the start the session\n",
    "            day_of_week is the day of the start the session\n",
    "            target is the user_id\n",
    "    '''\n",
    "    print ('prepare_train_set_with_feature engineering')\n",
    "    \n",
    "    #from glob import glob \n",
    "    \n",
    "    data = pd.DataFrame(columns = feature_names, dtype=np.int64)\n",
    "    \n",
    "    with open(site_freq_path ) as dic_pkl:\n",
    "        dic =pickle.load(dic_pkl)    # dictionary where keys are site names values are (site_id, frequency of site_id)\n",
    "    #print (len(dic))\n",
    "    \n",
    "    # from csv_files_mask to read all files\n",
    "    for f in glob(csv_files_mask):\n",
    "        df = pd.read_csv( f, header=None, names=['id', 'timestamp', 'site']) # make the dataframe from file\n",
    "        #print (len(df))\n",
    "        N_rows = int(np.ceil(len(df)/float(window_size)))\n",
    "        # array with site_id  from dataframe now it is initialed  zeros length is multiple to the session_length\n",
    "        #print (N_rows)\n",
    "        \n",
    "        #ar = np.zeros(len(df), dtype=np.int64)\n",
    "        ar = map( lambda x: dic[x][0], df.site.values)\n",
    "        \n",
    "        ar_time = pd.to_datetime(df['timestamp']).values\n",
    "        \n",
    "        #for i,x in enumerate (df.site):\n",
    "            #ar[i] = dic[x][0]\n",
    "        #print (ar.shape)\n",
    "        N_unique_site = np.zeros(N_rows, dtype = np.int64)\n",
    "        ar2 = np.array([], dtype = np.int64)\n",
    "        ar2_time = np.array([] ,dtype='datetime64')\n",
    "        \n",
    "        for i in range (N_rows+1):\n",
    "            # sites in the session length with window size\n",
    "            sites_setion = ar[i*window_size : i*window_size + session_length ]\n",
    "            ar2 = np.append(ar2, sites_setion)\n",
    "            # запишем время посешения сайта  в матрицу по сессиям длины session_length и с окном длины window_size\n",
    "            ar2_time = np.append(ar2_time, ar_time[i*window_size : i*window_size + session_length ])\n",
    "            \n",
    "            if i == N_rows: break \n",
    "            N_unique_site[i] = len(np.unique(sites_setion)) # колличество уникальных сайтов в сессии \n",
    "            #print (N_unique_site[i])\n",
    "        \n",
    "        ar2 = np.append(ar2,np.tile([0], (N_rows*session_length - len(ar2)))) # добавим в пустые згачения 0\n",
    "        # добавим в пустые значения последнее время\n",
    "        ar2_time = np.append(ar2_time ,np.tile(ar_time[-1], (N_rows*session_length - len(ar2_time)))) \n",
    "        \n",
    "        # convert array to matrixs\n",
    "        ar2 = ar2.reshape((N_rows, session_length)) # convert array to matrix\n",
    "        ar2_time = ar2_time.reshape((N_rows, session_length)) # convert array to matrix\n",
    "        N_unique_site = N_unique_site.reshape((N_rows, 1))# convert array to matrix\n",
    "        #print (N_unique_site.shape, ar2.shape, ar2_time.shape)\n",
    "        \n",
    "        # время между посещениями сайтов в одной сессии в секундах\n",
    "        time_diff = np.diff(ar2_time, axis =1)/np.timedelta64(1, 's')\n",
    "        \n",
    "        # продолжительность сессии в сек\n",
    "        session_timespan = (np.max(ar2_time, axis =1)-np.min(ar2_time, axis =1))/np.timedelta64(1, 's') \n",
    "        session_timespan = session_timespan.reshape((N_rows, 1)).astype(int) # convert array to matrix\n",
    "        \n",
    "        # час начала сессии\n",
    "        start_hour = (pd.to_datetime(np.min(ar2_time, axis =1))).hour\n",
    "        #print (start_hour)\n",
    "        start_hour = start_hour.reshape((N_rows, 1)) # convert array to matrix\n",
    "        \n",
    "        # день недели начала сессии    \n",
    "        day_of_week = (pd.to_datetime(np.min(ar2_time, axis =1))).dayofweek\n",
    "        day_of_week = day_of_week.reshape((N_rows, 1)) # convert array to matrix\n",
    "        \n",
    "        \n",
    "        #print (time_diff.shape, session_timespan.shape, start_hour.shape, day_of_week.shape)\n",
    "        \n",
    "        matrix = (np.hstack((ar2, time_diff, session_timespan, N_unique_site, start_hour, day_of_week))).astype(np.int64)\n",
    "        \n",
    "        data_ = pd.DataFrame(matrix, columns = feature_names[:-1], dtype = np.int64)\n",
    "        # target\n",
    "        data_[feature_names[-1]] = df['id']\n",
    "        data_ = data_.astype(np.int64)\n",
    "        data = data.append(data_)\n",
    "        #print (data.head())\n",
    "        \n",
    "    return data.astype(np.int64)\n",
    "    "
   ]
  },
  {
   "cell_type": "markdown",
   "metadata": {},
   "source": [
    "**Проверим функцию на игрушечном примере.**"
   ]
  },
  {
   "cell_type": "code",
   "execution_count": 3,
   "metadata": {},
   "outputs": [
    {
     "name": "stdout",
     "output_type": "stream",
     "text": [
      "prepare_train_set_with_feature engineering\n"
     ]
    }
   ],
   "source": [
    "feature_names = ['site' + str(i) for i in range(1,11)] + \\\n",
    "                ['time_diff' + str(j) for j in range(1,10)] + \\\n",
    "                ['session_timespan', '#unique_sites', 'start_hour', 'day_of_week', 'target']\n",
    "train_data_toy  = prepare_train_set_with_fe('capstone_websites_data/3users_toy/*', \n",
    "                                   site_freq_path='capstone_websites_data/site_freq_3users.pkl',\n",
    "                                   feature_names=feature_names, session_length=10)"
   ]
  },
  {
   "cell_type": "code",
   "execution_count": 4,
   "metadata": {},
   "outputs": [
    {
     "data": {
      "text/html": [
       "<div>\n",
       "<table border=\"1\" class=\"dataframe\">\n",
       "  <thead>\n",
       "    <tr style=\"text-align: right;\">\n",
       "      <th></th>\n",
       "      <th>site1</th>\n",
       "      <th>site2</th>\n",
       "      <th>site3</th>\n",
       "      <th>site4</th>\n",
       "      <th>site5</th>\n",
       "      <th>site6</th>\n",
       "      <th>site7</th>\n",
       "      <th>site8</th>\n",
       "      <th>site9</th>\n",
       "      <th>site10</th>\n",
       "      <th>time_diff1</th>\n",
       "      <th>time_diff2</th>\n",
       "      <th>time_diff3</th>\n",
       "      <th>time_diff4</th>\n",
       "      <th>time_diff5</th>\n",
       "      <th>time_diff6</th>\n",
       "      <th>time_diff7</th>\n",
       "      <th>time_diff8</th>\n",
       "      <th>time_diff9</th>\n",
       "      <th>session_timespan</th>\n",
       "      <th>#unique_sites</th>\n",
       "      <th>start_hour</th>\n",
       "      <th>day_of_week</th>\n",
       "      <th>target</th>\n",
       "    </tr>\n",
       "  </thead>\n",
       "  <tbody>\n",
       "    <tr>\n",
       "      <th>0</th>\n",
       "      <td>1</td>\n",
       "      <td>2</td>\n",
       "      <td>2</td>\n",
       "      <td>3</td>\n",
       "      <td>2</td>\n",
       "      <td>4</td>\n",
       "      <td>5</td>\n",
       "      <td>6</td>\n",
       "      <td>7</td>\n",
       "      <td>8</td>\n",
       "      <td>287</td>\n",
       "      <td>1184</td>\n",
       "      <td>6278</td>\n",
       "      <td>186</td>\n",
       "      <td>2</td>\n",
       "      <td>1</td>\n",
       "      <td>2</td>\n",
       "      <td>3</td>\n",
       "      <td>55</td>\n",
       "      <td>7998</td>\n",
       "      <td>8</td>\n",
       "      <td>9</td>\n",
       "      <td>4</td>\n",
       "      <td>1</td>\n",
       "    </tr>\n",
       "    <tr>\n",
       "      <th>1</th>\n",
       "      <td>1</td>\n",
       "      <td>4</td>\n",
       "      <td>4</td>\n",
       "      <td>4</td>\n",
       "      <td>0</td>\n",
       "      <td>0</td>\n",
       "      <td>0</td>\n",
       "      <td>0</td>\n",
       "      <td>0</td>\n",
       "      <td>0</td>\n",
       "      <td>2</td>\n",
       "      <td>3</td>\n",
       "      <td>55</td>\n",
       "      <td>0</td>\n",
       "      <td>0</td>\n",
       "      <td>0</td>\n",
       "      <td>0</td>\n",
       "      <td>0</td>\n",
       "      <td>0</td>\n",
       "      <td>60</td>\n",
       "      <td>2</td>\n",
       "      <td>12</td>\n",
       "      <td>4</td>\n",
       "      <td>1</td>\n",
       "    </tr>\n",
       "    <tr>\n",
       "      <th>0</th>\n",
       "      <td>1</td>\n",
       "      <td>2</td>\n",
       "      <td>9</td>\n",
       "      <td>9</td>\n",
       "      <td>2</td>\n",
       "      <td>0</td>\n",
       "      <td>0</td>\n",
       "      <td>0</td>\n",
       "      <td>0</td>\n",
       "      <td>0</td>\n",
       "      <td>287</td>\n",
       "      <td>1184</td>\n",
       "      <td>6278</td>\n",
       "      <td>186</td>\n",
       "      <td>0</td>\n",
       "      <td>0</td>\n",
       "      <td>0</td>\n",
       "      <td>0</td>\n",
       "      <td>0</td>\n",
       "      <td>7935</td>\n",
       "      <td>3</td>\n",
       "      <td>9</td>\n",
       "      <td>4</td>\n",
       "      <td>2</td>\n",
       "    </tr>\n",
       "    <tr>\n",
       "      <th>0</th>\n",
       "      <td>10</td>\n",
       "      <td>4</td>\n",
       "      <td>2</td>\n",
       "      <td>4</td>\n",
       "      <td>2</td>\n",
       "      <td>4</td>\n",
       "      <td>4</td>\n",
       "      <td>6</td>\n",
       "      <td>11</td>\n",
       "      <td>10</td>\n",
       "      <td>287</td>\n",
       "      <td>1184</td>\n",
       "      <td>6278</td>\n",
       "      <td>186</td>\n",
       "      <td>2</td>\n",
       "      <td>1</td>\n",
       "      <td>2</td>\n",
       "      <td>3</td>\n",
       "      <td>55</td>\n",
       "      <td>7998</td>\n",
       "      <td>5</td>\n",
       "      <td>9</td>\n",
       "      <td>4</td>\n",
       "      <td>3</td>\n",
       "    </tr>\n",
       "    <tr>\n",
       "      <th>1</th>\n",
       "      <td>10</td>\n",
       "      <td>4</td>\n",
       "      <td>2</td>\n",
       "      <td>0</td>\n",
       "      <td>0</td>\n",
       "      <td>0</td>\n",
       "      <td>0</td>\n",
       "      <td>0</td>\n",
       "      <td>0</td>\n",
       "      <td>0</td>\n",
       "      <td>287</td>\n",
       "      <td>1184</td>\n",
       "      <td>0</td>\n",
       "      <td>0</td>\n",
       "      <td>0</td>\n",
       "      <td>0</td>\n",
       "      <td>0</td>\n",
       "      <td>0</td>\n",
       "      <td>0</td>\n",
       "      <td>1471</td>\n",
       "      <td>3</td>\n",
       "      <td>12</td>\n",
       "      <td>4</td>\n",
       "      <td>3</td>\n",
       "    </tr>\n",
       "  </tbody>\n",
       "</table>\n",
       "</div>"
      ],
      "text/plain": [
       "   site1  site2  site3  site4  site5  site6  site7  site8  site9  site10  \\\n",
       "0      1      2      2      3      2      4      5      6      7       8   \n",
       "1      1      4      4      4      0      0      0      0      0       0   \n",
       "0      1      2      9      9      2      0      0      0      0       0   \n",
       "0     10      4      2      4      2      4      4      6     11      10   \n",
       "1     10      4      2      0      0      0      0      0      0       0   \n",
       "\n",
       "   time_diff1  time_diff2  time_diff3  time_diff4  time_diff5  time_diff6  \\\n",
       "0         287        1184        6278         186           2           1   \n",
       "1           2           3          55           0           0           0   \n",
       "0         287        1184        6278         186           0           0   \n",
       "0         287        1184        6278         186           2           1   \n",
       "1         287        1184           0           0           0           0   \n",
       "\n",
       "   time_diff7  time_diff8  time_diff9  session_timespan  #unique_sites  \\\n",
       "0           2           3          55              7998              8   \n",
       "1           0           0           0                60              2   \n",
       "0           0           0           0              7935              3   \n",
       "0           2           3          55              7998              5   \n",
       "1           0           0           0              1471              3   \n",
       "\n",
       "   start_hour  day_of_week  target  \n",
       "0           9            4       1  \n",
       "1          12            4       1  \n",
       "0           9            4       2  \n",
       "0           9            4       3  \n",
       "1          12            4       3  "
      ]
     },
     "execution_count": 4,
     "metadata": {},
     "output_type": "execute_result"
    }
   ],
   "source": [
    "train_data_toy"
   ]
  },
  {
   "cell_type": "markdown",
   "metadata": {},
   "source": [
    "**Применим функцию *prepare_train_set_with_fe* к данным по 10 пользователям, укажите session_length=10.**"
   ]
  },
  {
   "cell_type": "code",
   "execution_count": 7,
   "metadata": {},
   "outputs": [
    {
     "name": "stdout",
     "output_type": "stream",
     "text": [
      "prepare_train_set_with_feature engineering\n"
     ]
    }
   ],
   "source": [
    "train_data_10users = prepare_train_set_with_fe('capstone_websites_data/10users/*', \n",
    "                                   site_freq_path='capstone_websites_data/site_freq_10users.pkl',\n",
    "                                   feature_names=feature_names, session_length=10)"
   ]
  },
  {
   "cell_type": "code",
   "execution_count": 8,
   "metadata": {},
   "outputs": [
    {
     "data": {
      "text/html": [
       "<div>\n",
       "<table border=\"1\" class=\"dataframe\">\n",
       "  <thead>\n",
       "    <tr style=\"text-align: right;\">\n",
       "      <th></th>\n",
       "      <th>site1</th>\n",
       "      <th>site2</th>\n",
       "      <th>site3</th>\n",
       "      <th>site4</th>\n",
       "      <th>site5</th>\n",
       "      <th>site6</th>\n",
       "      <th>site7</th>\n",
       "      <th>site8</th>\n",
       "      <th>site9</th>\n",
       "      <th>site10</th>\n",
       "      <th>time_diff1</th>\n",
       "      <th>time_diff2</th>\n",
       "      <th>time_diff3</th>\n",
       "      <th>time_diff4</th>\n",
       "      <th>time_diff5</th>\n",
       "      <th>time_diff6</th>\n",
       "      <th>time_diff7</th>\n",
       "      <th>time_diff8</th>\n",
       "      <th>time_diff9</th>\n",
       "      <th>session_timespan</th>\n",
       "      <th>#unique_sites</th>\n",
       "      <th>start_hour</th>\n",
       "      <th>day_of_week</th>\n",
       "      <th>target</th>\n",
       "    </tr>\n",
       "  </thead>\n",
       "  <tbody>\n",
       "    <tr>\n",
       "      <th>0</th>\n",
       "      <td>1</td>\n",
       "      <td>2</td>\n",
       "      <td>2</td>\n",
       "      <td>3</td>\n",
       "      <td>4</td>\n",
       "      <td>5</td>\n",
       "      <td>6</td>\n",
       "      <td>7</td>\n",
       "      <td>8</td>\n",
       "      <td>7</td>\n",
       "      <td>273</td>\n",
       "      <td>3</td>\n",
       "      <td>28</td>\n",
       "      <td>916</td>\n",
       "      <td>-1523</td>\n",
       "      <td>10</td>\n",
       "      <td>0</td>\n",
       "      <td>0</td>\n",
       "      <td>1</td>\n",
       "      <td>1523</td>\n",
       "      <td>8</td>\n",
       "      <td>8</td>\n",
       "      <td>4</td>\n",
       "      <td>31</td>\n",
       "    </tr>\n",
       "    <tr>\n",
       "      <th>1</th>\n",
       "      <td>7</td>\n",
       "      <td>8</td>\n",
       "      <td>7</td>\n",
       "      <td>7</td>\n",
       "      <td>9</td>\n",
       "      <td>10</td>\n",
       "      <td>11</td>\n",
       "      <td>12</td>\n",
       "      <td>13</td>\n",
       "      <td>14</td>\n",
       "      <td>1</td>\n",
       "      <td>0</td>\n",
       "      <td>1</td>\n",
       "      <td>0</td>\n",
       "      <td>0</td>\n",
       "      <td>1</td>\n",
       "      <td>0</td>\n",
       "      <td>163</td>\n",
       "      <td>105</td>\n",
       "      <td>271</td>\n",
       "      <td>8</td>\n",
       "      <td>8</td>\n",
       "      <td>4</td>\n",
       "      <td>31</td>\n",
       "    </tr>\n",
       "    <tr>\n",
       "      <th>2</th>\n",
       "      <td>7</td>\n",
       "      <td>15</td>\n",
       "      <td>16</td>\n",
       "      <td>17</td>\n",
       "      <td>17</td>\n",
       "      <td>8</td>\n",
       "      <td>17</td>\n",
       "      <td>17</td>\n",
       "      <td>10</td>\n",
       "      <td>3</td>\n",
       "      <td>4</td>\n",
       "      <td>3</td>\n",
       "      <td>8</td>\n",
       "      <td>1</td>\n",
       "      <td>0</td>\n",
       "      <td>14</td>\n",
       "      <td>1</td>\n",
       "      <td>242</td>\n",
       "      <td>0</td>\n",
       "      <td>273</td>\n",
       "      <td>7</td>\n",
       "      <td>8</td>\n",
       "      <td>4</td>\n",
       "      <td>31</td>\n",
       "    </tr>\n",
       "    <tr>\n",
       "      <th>3</th>\n",
       "      <td>18</td>\n",
       "      <td>19</td>\n",
       "      <td>20</td>\n",
       "      <td>17</td>\n",
       "      <td>21</td>\n",
       "      <td>17</td>\n",
       "      <td>17</td>\n",
       "      <td>17</td>\n",
       "      <td>17</td>\n",
       "      <td>22</td>\n",
       "      <td>1</td>\n",
       "      <td>0</td>\n",
       "      <td>0</td>\n",
       "      <td>2</td>\n",
       "      <td>1</td>\n",
       "      <td>1</td>\n",
       "      <td>25</td>\n",
       "      <td>1</td>\n",
       "      <td>0</td>\n",
       "      <td>31</td>\n",
       "      <td>6</td>\n",
       "      <td>8</td>\n",
       "      <td>4</td>\n",
       "      <td>31</td>\n",
       "    </tr>\n",
       "    <tr>\n",
       "      <th>4</th>\n",
       "      <td>23</td>\n",
       "      <td>24</td>\n",
       "      <td>25</td>\n",
       "      <td>17</td>\n",
       "      <td>26</td>\n",
       "      <td>27</td>\n",
       "      <td>28</td>\n",
       "      <td>29</td>\n",
       "      <td>30</td>\n",
       "      <td>31</td>\n",
       "      <td>0</td>\n",
       "      <td>0</td>\n",
       "      <td>1</td>\n",
       "      <td>1</td>\n",
       "      <td>1</td>\n",
       "      <td>1</td>\n",
       "      <td>0</td>\n",
       "      <td>1</td>\n",
       "      <td>1</td>\n",
       "      <td>6</td>\n",
       "      <td>10</td>\n",
       "      <td>8</td>\n",
       "      <td>4</td>\n",
       "      <td>31</td>\n",
       "    </tr>\n",
       "  </tbody>\n",
       "</table>\n",
       "</div>"
      ],
      "text/plain": [
       "   site1  site2  site3  site4  site5  site6  site7  site8  site9  site10  \\\n",
       "0      1      2      2      3      4      5      6      7      8       7   \n",
       "1      7      8      7      7      9     10     11     12     13      14   \n",
       "2      7     15     16     17     17      8     17     17     10       3   \n",
       "3     18     19     20     17     21     17     17     17     17      22   \n",
       "4     23     24     25     17     26     27     28     29     30      31   \n",
       "\n",
       "   time_diff1  time_diff2  time_diff3  time_diff4  time_diff5  time_diff6  \\\n",
       "0         273           3          28         916       -1523          10   \n",
       "1           1           0           1           0           0           1   \n",
       "2           4           3           8           1           0          14   \n",
       "3           1           0           0           2           1           1   \n",
       "4           0           0           1           1           1           1   \n",
       "\n",
       "   time_diff7  time_diff8  time_diff9  session_timespan  #unique_sites  \\\n",
       "0           0           0           1              1523              8   \n",
       "1           0         163         105               271              8   \n",
       "2           1         242           0               273              7   \n",
       "3          25           1           0                31              6   \n",
       "4           0           1           1                 6             10   \n",
       "\n",
       "   start_hour  day_of_week  target  \n",
       "0           8            4      31  \n",
       "1           8            4      31  \n",
       "2           8            4      31  \n",
       "3           8            4      31  \n",
       "4           8            4      31  "
      ]
     },
     "execution_count": 8,
     "metadata": {},
     "output_type": "execute_result"
    }
   ],
   "source": [
    "train_data_10users.head()"
   ]
  },
  {
   "cell_type": "markdown",
   "metadata": {},
   "source": [
    "**Применим функцию *prepare_train_set_with_fe* к данным по 150 пользователям, укажите session_length=10.**"
   ]
  },
  {
   "cell_type": "code",
   "execution_count": 9,
   "metadata": {},
   "outputs": [
    {
     "name": "stdout",
     "output_type": "stream",
     "text": [
      "prepare_train_set_with_feature engineering\n",
      "Wall time: 24.5 s\n"
     ]
    }
   ],
   "source": [
    "%%time\n",
    "train_data_150users = prepare_train_set_with_fe('capstone_websites_data/150users/*', \n",
    "                                                site_freq_path='capstone_websites_data/site_freq_150users.pkl',\n",
    "                                                feature_names=feature_names, session_length=10)"
   ]
  },
  {
   "cell_type": "markdown",
   "metadata": {},
   "source": [
    "**Сохраним в pickle-файлы *time_diff1*,..., *time_diff9, session_timespan, #unique_sites, start_hour* и *day_of_week* для 10 и 150 пользователей.**"
   ]
  },
  {
   "cell_type": "code",
   "execution_count": 10,
   "metadata": {
    "collapsed": true
   },
   "outputs": [],
   "source": [
    "new_feature_names = ['time_diff' + str(j) for j in range(1,10)] + \\\n",
    "                ['session_timespan', '#unique_sites', 'start_hour', 'day_of_week', 'target']"
   ]
  },
  {
   "cell_type": "code",
   "execution_count": 11,
   "metadata": {},
   "outputs": [],
   "source": [
    "new_features_10users = train_data_10users[ new_feature_names]\n",
    "new_features_150users = train_data_150users[ new_feature_names]"
   ]
  },
  {
   "cell_type": "code",
   "execution_count": 12,
   "metadata": {
    "collapsed": true
   },
   "outputs": [],
   "source": [
    "with open('new_features_10users.pkl', 'wb') as new_features_10users_pkl:\n",
    "    pickle.dump(new_features_10users, new_features_10users_pkl)\n",
    "with open('new_features_150users.pkl', 'wb') as new_features_150users_pkl:\n",
    "    pickle.dump(new_features_150users, new_features_150users_pkl)"
   ]
  },
  {
   "cell_type": "code",
   "execution_count": 13,
   "metadata": {
    "collapsed": true
   },
   "outputs": [],
   "source": [
    "train_data_10users.to_csv('capstone_websites_data/new_train_data_10users.csv',\n",
    "                          index_label='session_id', float_format='%d')"
   ]
  },
  {
   "cell_type": "code",
   "execution_count": 14,
   "metadata": {
    "collapsed": true
   },
   "outputs": [],
   "source": [
    "train_data_150users.to_csv('capstone_websites_data/new_train_data_150users.csv',\n",
    "                          index_label='session_id', float_format='%d')"
   ]
  },
  {
   "cell_type": "markdown",
   "metadata": {},
   "source": [
    "## Часть 2. Визуальный анализ данных"
   ]
  },
  {
   "cell_type": "markdown",
   "metadata": {},
   "source": [
    "**Забавы ради, потехи для дадим пользователям имена и ассоциируем с ними цвета.**"
   ]
  },
  {
   "cell_type": "code",
   "execution_count": 15,
   "metadata": {},
   "outputs": [],
   "source": [
    "id_name_dict = {128: 'Mary-Kate', 39: 'Ashley', 207: 'Lindsey', 127: 'Naomi', 237: 'Avril',\n",
    "               33: 'Bob', 50: 'Bill', 31: 'John', 100: 'Dick', 241: 'Ed'}\n",
    "train_data_10users['target'] = train_data_10users['target'].map(id_name_dict)"
   ]
  },
  {
   "cell_type": "code",
   "execution_count": 16,
   "metadata": {},
   "outputs": [],
   "source": [
    "color_dic = {'Mary-Kate': 'pink', 'Ashley': 'darkviolet', 'Lindsey':'blueviolet', \n",
    "             'Naomi': 'hotpink', 'Avril': 'orchid', \n",
    "             'Bob': 'firebrick', 'Bill': 'gold', 'John': 'forestgreen', \n",
    "             'Dick': 'slategrey', 'Ed':'brown'}"
   ]
  },
  {
   "cell_type": "code",
   "execution_count": 17,
   "metadata": {},
   "outputs": [
    {
     "data": {
      "text/html": [
       "<div>\n",
       "<table border=\"1\" class=\"dataframe\">\n",
       "  <thead>\n",
       "    <tr style=\"text-align: right;\">\n",
       "      <th></th>\n",
       "      <th>site1</th>\n",
       "      <th>site2</th>\n",
       "      <th>site3</th>\n",
       "      <th>site4</th>\n",
       "      <th>site5</th>\n",
       "      <th>site6</th>\n",
       "      <th>site7</th>\n",
       "      <th>site8</th>\n",
       "      <th>site9</th>\n",
       "      <th>site10</th>\n",
       "      <th>time_diff1</th>\n",
       "      <th>time_diff2</th>\n",
       "      <th>time_diff3</th>\n",
       "      <th>time_diff4</th>\n",
       "      <th>time_diff5</th>\n",
       "      <th>time_diff6</th>\n",
       "      <th>time_diff7</th>\n",
       "      <th>time_diff8</th>\n",
       "      <th>time_diff9</th>\n",
       "      <th>session_timespan</th>\n",
       "      <th>#unique_sites</th>\n",
       "      <th>start_hour</th>\n",
       "      <th>day_of_week</th>\n",
       "      <th>target</th>\n",
       "    </tr>\n",
       "  </thead>\n",
       "  <tbody>\n",
       "    <tr>\n",
       "      <th>0</th>\n",
       "      <td>1</td>\n",
       "      <td>2</td>\n",
       "      <td>2</td>\n",
       "      <td>3</td>\n",
       "      <td>4</td>\n",
       "      <td>5</td>\n",
       "      <td>6</td>\n",
       "      <td>7</td>\n",
       "      <td>8</td>\n",
       "      <td>7</td>\n",
       "      <td>273</td>\n",
       "      <td>3</td>\n",
       "      <td>28</td>\n",
       "      <td>916</td>\n",
       "      <td>-1523</td>\n",
       "      <td>10</td>\n",
       "      <td>0</td>\n",
       "      <td>0</td>\n",
       "      <td>1</td>\n",
       "      <td>1523</td>\n",
       "      <td>8</td>\n",
       "      <td>8</td>\n",
       "      <td>4</td>\n",
       "      <td>John</td>\n",
       "    </tr>\n",
       "    <tr>\n",
       "      <th>1</th>\n",
       "      <td>7</td>\n",
       "      <td>8</td>\n",
       "      <td>7</td>\n",
       "      <td>7</td>\n",
       "      <td>9</td>\n",
       "      <td>10</td>\n",
       "      <td>11</td>\n",
       "      <td>12</td>\n",
       "      <td>13</td>\n",
       "      <td>14</td>\n",
       "      <td>1</td>\n",
       "      <td>0</td>\n",
       "      <td>1</td>\n",
       "      <td>0</td>\n",
       "      <td>0</td>\n",
       "      <td>1</td>\n",
       "      <td>0</td>\n",
       "      <td>163</td>\n",
       "      <td>105</td>\n",
       "      <td>271</td>\n",
       "      <td>8</td>\n",
       "      <td>8</td>\n",
       "      <td>4</td>\n",
       "      <td>John</td>\n",
       "    </tr>\n",
       "    <tr>\n",
       "      <th>2</th>\n",
       "      <td>7</td>\n",
       "      <td>15</td>\n",
       "      <td>16</td>\n",
       "      <td>17</td>\n",
       "      <td>17</td>\n",
       "      <td>8</td>\n",
       "      <td>17</td>\n",
       "      <td>17</td>\n",
       "      <td>10</td>\n",
       "      <td>3</td>\n",
       "      <td>4</td>\n",
       "      <td>3</td>\n",
       "      <td>8</td>\n",
       "      <td>1</td>\n",
       "      <td>0</td>\n",
       "      <td>14</td>\n",
       "      <td>1</td>\n",
       "      <td>242</td>\n",
       "      <td>0</td>\n",
       "      <td>273</td>\n",
       "      <td>7</td>\n",
       "      <td>8</td>\n",
       "      <td>4</td>\n",
       "      <td>John</td>\n",
       "    </tr>\n",
       "    <tr>\n",
       "      <th>3</th>\n",
       "      <td>18</td>\n",
       "      <td>19</td>\n",
       "      <td>20</td>\n",
       "      <td>17</td>\n",
       "      <td>21</td>\n",
       "      <td>17</td>\n",
       "      <td>17</td>\n",
       "      <td>17</td>\n",
       "      <td>17</td>\n",
       "      <td>22</td>\n",
       "      <td>1</td>\n",
       "      <td>0</td>\n",
       "      <td>0</td>\n",
       "      <td>2</td>\n",
       "      <td>1</td>\n",
       "      <td>1</td>\n",
       "      <td>25</td>\n",
       "      <td>1</td>\n",
       "      <td>0</td>\n",
       "      <td>31</td>\n",
       "      <td>6</td>\n",
       "      <td>8</td>\n",
       "      <td>4</td>\n",
       "      <td>John</td>\n",
       "    </tr>\n",
       "    <tr>\n",
       "      <th>4</th>\n",
       "      <td>23</td>\n",
       "      <td>24</td>\n",
       "      <td>25</td>\n",
       "      <td>17</td>\n",
       "      <td>26</td>\n",
       "      <td>27</td>\n",
       "      <td>28</td>\n",
       "      <td>29</td>\n",
       "      <td>30</td>\n",
       "      <td>31</td>\n",
       "      <td>0</td>\n",
       "      <td>0</td>\n",
       "      <td>1</td>\n",
       "      <td>1</td>\n",
       "      <td>1</td>\n",
       "      <td>1</td>\n",
       "      <td>0</td>\n",
       "      <td>1</td>\n",
       "      <td>1</td>\n",
       "      <td>6</td>\n",
       "      <td>10</td>\n",
       "      <td>8</td>\n",
       "      <td>4</td>\n",
       "      <td>John</td>\n",
       "    </tr>\n",
       "  </tbody>\n",
       "</table>\n",
       "</div>"
      ],
      "text/plain": [
       "   site1  site2  site3  site4  site5  site6  site7  site8  site9  site10  \\\n",
       "0      1      2      2      3      4      5      6      7      8       7   \n",
       "1      7      8      7      7      9     10     11     12     13      14   \n",
       "2      7     15     16     17     17      8     17     17     10       3   \n",
       "3     18     19     20     17     21     17     17     17     17      22   \n",
       "4     23     24     25     17     26     27     28     29     30      31   \n",
       "\n",
       "   time_diff1  time_diff2  time_diff3  time_diff4  time_diff5  time_diff6  \\\n",
       "0         273           3          28         916       -1523          10   \n",
       "1           1           0           1           0           0           1   \n",
       "2           4           3           8           1           0          14   \n",
       "3           1           0           0           2           1           1   \n",
       "4           0           0           1           1           1           1   \n",
       "\n",
       "   time_diff7  time_diff8  time_diff9  session_timespan  #unique_sites  \\\n",
       "0           0           0           1              1523              8   \n",
       "1           0         163         105               271              8   \n",
       "2           1         242           0               273              7   \n",
       "3          25           1           0                31              6   \n",
       "4           0           1           1                 6             10   \n",
       "\n",
       "   start_hour  day_of_week target  \n",
       "0           8            4   John  \n",
       "1           8            4   John  \n",
       "2           8            4   John  \n",
       "3           8            4   John  \n",
       "4           8            4   John  "
      ]
     },
     "execution_count": 17,
     "metadata": {},
     "output_type": "execute_result"
    }
   ],
   "source": [
    "train_data_10users.head()"
   ]
  },
  {
   "cell_type": "markdown",
   "metadata": {},
   "source": [
    "**1. Построем гистограмму распределения длины сессии в секундах (*session_timespan*). Ограничьте по *x* значением 200 (иначе слишком тяжелый хвост). Сделайте гистограмму цвета *darkviolet*, подпишите оси по-русски.**"
   ]
  },
  {
   "cell_type": "code",
   "execution_count": 18,
   "metadata": {},
   "outputs": [
    {
     "data": {
      "text/plain": [
       "<matplotlib.text.Text at 0xa9081d0>"
      ]
     },
     "execution_count": 18,
     "metadata": {},
     "output_type": "execute_result"
    },
    {
     "data": {
      "image/png": "[encoded data removed]",
      "text/plain": [
       "<matplotlib.figure.Figure at 0xbd57550>"
      ]
     },
     "metadata": {},
     "output_type": "display_data"
    }
   ],
   "source": [
    "train_data_10users['session_timespan'][train_data_10users['session_timespan']<200].\\\n",
    "                    hist(bins = 20, figsize = (10,6),color ='darkviolet')#, xlabel = u'длина сессии')\n",
    "plt.xlabel(u'длина сессии в сек')\n",
    "plt.ylabel(u'частота')"
   ]
  },
  {
   "cell_type": "markdown",
   "metadata": {},
   "source": [
    "**2. Построем гистограмму распределения числа уникальных сайтов в сессии (*#unique_sites*). Сделайте гистограмму цвета *aqua*, подпишите оси по-русски.**"
   ]
  },
  {
   "cell_type": "code",
   "execution_count": 19,
   "metadata": {},
   "outputs": [
    {
     "data": {
      "text/plain": [
       "<matplotlib.text.Text at 0xa998320>"
      ]
     },
     "execution_count": 19,
     "metadata": {},
     "output_type": "execute_result"
    },
    {
     "data": {
      "image/png": "[encoded data removed]",
      "text/plain": [
       "<matplotlib.figure.Figure at 0xbd575c0>"
      ]
     },
     "metadata": {},
     "output_type": "display_data"
    }
   ],
   "source": [
    "train_data_10users['#unique_sites'].hist(bins = 10, figsize = (10,6),color ='aqua')\n",
    "plt.xlabel(u'число уникальных сайтов в сесси')\n",
    "plt.ylabel(u'частота') "
   ]
  },
  {
   "cell_type": "markdown",
   "metadata": {},
   "source": [
    "**3. Построем гистограммы распределения числа уникальных сайтов в сессии (*#unique_sites*) для каждого из 10 пользователей по отдельности. Используйте *subplots*, чтоб разместить все 10 картинок на одной большой. Пометьте легендой каждую картинку – на легенде должно быть написано имя пользователя. Для каждого пользователя раскрасьте гистограмму его/ее цветом (*color_dic*). Подпишим оси в каждой из 10 гистограмм.**"
   ]
  },
  {
   "cell_type": "code",
   "execution_count": 20,
   "metadata": {},
   "outputs": [
    {
     "data": {
      "image/png": "[encoded data removed]",
      "text/plain": [
       "<matplotlib.figure.Figure at 0xcec0780>"
      ]
     },
     "metadata": {},
     "output_type": "display_data"
    }
   ],
   "source": [
    "fig, axes = plt.subplots(nrows=3, ncols=4, figsize=(16, 10))\n",
    "axes = axes.ravel()\n",
    "# как вариант, можно и по-другому\n",
    "for idx, (user, sub_df) in  enumerate(pd.groupby(train_data_10users, 'target')):\n",
    "    \n",
    "    axes[idx].hist(sub_df['#unique_sites'],bins =10, color = color_dic[user], label = user)\n",
    "    \n",
    "    axes[idx].set_xlabel(u'число уникальных сайтов')\n",
    "    axes[idx].axis([0, 10, 0, 900])\n",
    "    axes[idx].set_ylabel(u'частота сайтов')\n",
    "    axes[idx].legend()\n",
    "    "
   ]
  },
  {
   "cell_type": "markdown",
   "metadata": {},
   "source": [
    "**6. Построем гистограмму распределения дня недели, в который началась сессия (*day_of_week*). Сделайте гистограмму цвета *sienna*.**"
   ]
  },
  {
   "cell_type": "code",
   "execution_count": 23,
   "metadata": {},
   "outputs": [
    {
     "data": {
      "text/plain": [
       "<matplotlib.axes._subplots.AxesSubplot at 0xc2c3390>"
      ]
     },
     "execution_count": 23,
     "metadata": {},
     "output_type": "execute_result"
    },
    {
     "data": {
      "image/png": "[encoded data removed]",
      "text/plain": [
       "<matplotlib.figure.Figure at 0xa998cf8>"
      ]
     },
     "metadata": {},
     "output_type": "display_data"
    }
   ],
   "source": [
    "train_data_10users['day_of_week'].hist( bins = 7, figsize = (10,6), color = 'sienna')"
   ]
  },
  {
   "cell_type": "markdown",
   "metadata": {},
   "source": [
    "**4. Построем гистограмму распределения часа начала сессии (*start_hour*). Сделайте гистограмму цвета *darkgreen*.**"
   ]
  },
  {
   "cell_type": "code",
   "execution_count": 21,
   "metadata": {},
   "outputs": [
    {
     "data": {
      "text/plain": [
       "<matplotlib.text.Text at 0xb8f9b70>"
      ]
     },
     "execution_count": 21,
     "metadata": {},
     "output_type": "execute_result"
    },
    {
     "data": {
      "image/png": "[encoded data removed]",
      "text/plain": [
       "<matplotlib.figure.Figure at 0xab0af60>"
      ]
     },
     "metadata": {},
     "output_type": "display_data"
    }
   ],
   "source": [
    "train_data_10users['start_hour'].hist( bins = 24, figsize = (10,6),color ='darkgreen')\n",
    "plt.xlabel(u'час начала сессии')\n",
    "plt.ylabel(u'частота') "
   ]
  },
  {
   "cell_type": "markdown",
   "metadata": {},
   "source": [
    "**5. Постройем гистограммы распределения часа начала сессии (*start_hour*) для каждого из 10 пользователей по отдельности. Используйте *subplots*, чтоб разместить все 10 картинок на одной большой. Легендой каждую картинку – на легенде должно быть написано имя пользователя. Для каждого пользователя  гистограмму его/ее цветом (*color_dic*). Подпишим оси **"
   ]
  },
  {
   "cell_type": "code",
   "execution_count": 22,
   "metadata": {},
   "outputs": [
    {
     "data": {
      "image/png": "[encoded data removed]",
      "text/plain": [
       "<matplotlib.figure.Figure at 0xb8d83c8>"
      ]
     },
     "metadata": {},
     "output_type": "display_data"
    }
   ],
   "source": [
    "fig, axes = plt.subplots(nrows=3, ncols=4, figsize=(16, 10))\n",
    "axes = axes.ravel()\n",
    "# как вариант, можно и по-другому\n",
    "for idx, (user, sub_df) in  enumerate(pd.groupby(train_data_10users, 'target')):\n",
    "    \n",
    "    axes[idx].hist(sub_df['start_hour'],bins =24, color = color_dic[user], label = user)\n",
    "    \n",
    "    axes[idx].set_xlabel(u'час начала сессии')\n",
    "    axes[idx].axis([0, 24, 0, 500])\n",
    "    axes[idx].set_ylabel(u'частота')\n",
    "    axes[idx].legend()\n",
    "     "
   ]
  },
  {
   "cell_type": "markdown",
   "metadata": {},
   "source": [
    "**7. Построем гистограммы распределения дня недели, в который началась сессия (*day_of_week*) для каждого из 10 пользователей по отдельности. Используйте *subplots*, чтоб разместить все 10 картинок на одной большой.  Метки по оси *X* на ['Пн', 'Вт', 'Ср', 'Чт', 'Пт', 'Сб', 'Вс'] – метод *set_xticklabels*. Пометем легендой каждую картинку – на легенде должно быть написано имя пользователя. Для каждого пользователя гистограмму в его/ее цвет (*color_dic*). **"
   ]
  },
  {
   "cell_type": "code",
   "execution_count": 24,
   "metadata": {},
   "outputs": [
    {
     "data": {
      "image/png": "[encoded data removed]",
      "text/plain": [
       "<matplotlib.figure.Figure at 0xbd88470>"
      ]
     },
     "metadata": {},
     "output_type": "display_data"
    }
   ],
   "source": [
    "fig, axes = plt.subplots(nrows=3, ncols=4, figsize=(16, 10))\n",
    "axes = axes.ravel()\n",
    "# как вариант, можно и по-другому\n",
    "for idx, (user, sub_df) in  enumerate(pd.groupby(train_data_10users, 'target')): \n",
    "      \n",
    "    axes[idx].hist(sub_df['day_of_week'], color = color_dic[user], label = user)\n",
    "    \n",
    "    axes[idx].set_xlabel(u'день недели')\n",
    "    axes[idx].axis([0, 7, 0, 1200])\n",
    "    axes[idx].set_xticklabels([u'Пн', u'Вт', u'Ср', u'Чт', u'Пт', u'Сб', u'Вс'])\n",
    "    axes[idx].set_ylabel(u'частота')\n",
    "    axes[idx].legend()"
   ]
  },
  {
   "cell_type": "markdown",
   "metadata": {},
   "source": [
    "**Загрузим сохраненный ранее в pickle-файл частотный словарь сайтов для 10 пользователей. **"
   ]
  },
  {
   "cell_type": "code",
   "execution_count": 8,
   "metadata": {
    "collapsed": true
   },
   "outputs": [],
   "source": [
    "with open('capstone_websites_data/site__freq_10users.pkl' ) as dic_pkl:\n",
    "    dic_freq_10users =pickle.load(dic_pkl)# dictionary where keys are site names values are (site_id, frequency of site_id) "
   ]
  },
  {
   "cell_type": "markdown",
   "metadata": {},
   "source": [
    "**Определим топ-10 самых посещаемых сайтов (*top10_sites*) и соответствующие кол-ва посещений (*top10_freqs*).**"
   ]
  },
  {
   "cell_type": "code",
   "execution_count": 9,
   "metadata": {},
   "outputs": [],
   "source": [
    "freq_sorted = sorted([(k,v[0],v[1]) for k,v in dic_freq_10users.items()], key= lambda x: x[2], reverse =True )\n",
    "top10_freqs = [x[2] for x in freq_sorted[:10]]\n",
    "top10_sites = [x[0] for x in freq_sorted[:10]]"
   ]
  },
  {
   "cell_type": "code",
   "execution_count": 10,
   "metadata": {},
   "outputs": [
    {
     "data": {
      "text/plain": [
       "[('s.youtube.com', 209, 8300),\n",
       " ('www.google.fr', 51, 7813),\n",
       " ('www.google.com', 8, 5441),\n",
       " ('mail.google.com', 183, 4158),\n",
       " ('www.facebook.com', 3, 4141),\n",
       " ('apis.google.com', 129, 3758),\n",
       " ('r3---sn-gxo5uxg-jqbe.googlevideo.com', 700, 3244),\n",
       " ('r1---sn-gxo5uxg-jqbe.googlevideo.com', 213, 3094),\n",
       " ('plus.google.com', 188, 2630),\n",
       " ('accounts.google.com', 184, 2089)]"
      ]
     },
     "execution_count": 10,
     "metadata": {},
     "output_type": "execute_result"
    }
   ],
   "source": [
    "freq_sorted[:10]"
   ]
  },
  {
   "cell_type": "code",
   "execution_count": 28,
   "metadata": {},
   "outputs": [
    {
     "name": "stdout",
     "output_type": "stream",
     "text": [
      "('s.youtube.com', 8300)\n",
      "('www.google.fr', 7813)\n",
      "('www.google.com', 5441)\n",
      "('mail.google.com', 4158)\n",
      "('www.facebook.com', 4141)\n",
      "('apis.google.com', 3758)\n",
      "('r3---sn-gxo5uxg-jqbe.googlevideo.com', 3244)\n",
      "('r1---sn-gxo5uxg-jqbe.googlevideo.com', 3094)\n",
      "('plus.google.com', 2630)\n",
      "('accounts.google.com', 2089)\n"
     ]
    },
    {
     "data": {
      "text/plain": [
       "[None, None, None, None, None, None, None, None, None, None]"
      ]
     },
     "execution_count": 28,
     "metadata": {},
     "output_type": "execute_result"
    }
   ],
   "source": [
    "[print (x) for x in zip( top10_sites, top10_freqs)]"
   ]
  },
  {
   "cell_type": "markdown",
   "metadata": {},
   "source": [
    "**9. Нарисуем *seaborn barplot*, показывающий частоты посещений топ-10 сайтов. Подписи сайтов вертикальными, иначе они сливаются (*xticks*).**"
   ]
  },
  {
   "cell_type": "code",
   "execution_count": 29,
   "metadata": {},
   "outputs": [
    {
     "data": {
      "text/plain": [
       "(array([0, 1, 2, 3, 4, 5, 6, 7, 8, 9]), <a list of 10 Text xticklabel objects>)"
      ]
     },
     "execution_count": 29,
     "metadata": {},
     "output_type": "execute_result"
    },
    {
     "data": {
      "image/png": "[encoded data removed]",
      "text/plain": [
       "<matplotlib.figure.Figure at 0xaafc9b0>"
      ]
     },
     "metadata": {},
     "output_type": "display_data"
    }
   ],
   "source": [
    "sns.barplot(x = top10_sites, y = top10_freqs)\n",
    "plt.xticks(rotation=90)"
   ]
  },
  {
   "cell_type": "markdown",
   "metadata": {},
   "source": [
    "## Часть 3. Дальнейшее построение признаков"
   ]
  },
  {
   "cell_type": "markdown",
   "metadata": {},
   "source": [
    "\n",
    "будем использовать \"мешок\" сайтов  для классификации сессий по принадлежности разным пользователям, а эти новые признаки, потом добавим и посмотрим, улучшается ли модель. Поэтому можно их создать в виде отдельных матриц и сохранить их также отдельно.  \n",
    "\n",
    "В этой части задания Вы можете построить и визуально исследовать самые разные признаки (ничто фантазию не ограничивает):\n",
    "- время суток\n",
    "- среднее время пребывания на сайте, посчитать можно, скажем, для топ-30 популярных сайтов\n",
    "- индикаторы посещения популярных сайтов (скажем, тоже для топ-30 популярных сайтов)\n",
    "- частота посещения Facebook\n",
    "- ..."
   ]
  },
  {
   "cell_type": "markdown",
   "metadata": {},
   "source": [
    "**Функцию для создания новых признаков и применим ее к исходным данным – каталогам с 10 и 150 файлами. Это только для набора данных, полученного с параметрами *session_length=10* и *window_size=10*. Сериализуем полученные матрицы с помощью pickle. Функция может возвращать как только новые признаки, так и старые с новыми.**"
   ]
  },
  {
   "cell_type": "code",
   "execution_count": 2,
   "metadata": {},
   "outputs": [],
   "source": [
    "def feature_engineering(csv_files_mask, site_freq_path, \n",
    "                        site_top_list, feature_names, session_length=10, window_size=10):\n",
    "    ''' input \n",
    "    csv_files_mask = dir of session files,\n",
    "    site_freq_path = dir of dictionary,\n",
    "    site_top_list = list of top frequincy sites\n",
    "    feature_names  = names of the features\n",
    "    session_length = N size of the session ,\n",
    "    window_size    = M size of the window\n",
    "    output \n",
    "    dataFrame where  t_site1,...t_site(N) are the opens time in hours of the top site at the session \n",
    "            time_diff1,... time_diff(N-1) are the difference between the open time of the top site and next\n",
    "            unique_site is the number of the unique site at the session\n",
    "            start_hour is the hour of the start the session\n",
    "            day_of_week is the day of the start the session\n",
    "            target is the user_id\n",
    "    '''\n",
    "    print ('prepare_train_set_with_feature engineering')\n",
    "    \n",
    "    #from glob import glob \n",
    "    \n",
    "    data = pd.DataFrame(columns = feature_names, dtype=np.int64)\n",
    "    \n",
    "    with open(site_freq_path ) as dic_pkl:\n",
    "        dic =pickle.load(dic_pkl)    # dictionary where keys are site names values are (site_id, frequency of site_id)\n",
    "    #print (len(dic))\n",
    "    \n",
    "    # from csv_files_mask to read all files\n",
    "    for f in glob(csv_files_mask):\n",
    "        df = pd.read_csv( f, header=None, names=['id', 'timestamp', 'site']) # make the dataframe from file of the log\n",
    "        #print (len(df))\n",
    "        N_rows = int(np.ceil(len(df)/float(window_size)))\n",
    "        \n",
    "        # list of site where site's number in the number from the log\n",
    "        ar = np.array( map( lambda x: dic[x][0], df['site'].values))\n",
    "        #list of sites time from the log\n",
    "        ar_time = pd.to_datetime(df['timestamp'])\n",
    "        \n",
    "        site_top_list = np.array(site_top_list)\n",
    "        # list of (1,0) where 1 is only if element ar in site_top_list\n",
    "        ind_popular = np.in1d(ar, site_top_list)\n",
    "        #print (ind_popular[:11])\n",
    "        \n",
    "        # list (1,0) where 1 is only if element ar in site_top_list at the session_length with window_size\n",
    "        ind2           = np.array([], dtype = bool)\n",
    "        # number of the site_top_list in session\n",
    "        N_top_site = np.zeros(N_rows, dtype = np.int64)\n",
    "        # time of the side's open at the session\n",
    "        ar2_time = np.array([] ,dtype='datetime64')\n",
    "        \n",
    "        for i in range (N_rows+1):\n",
    "            # sites in the session_length with the window_size\n",
    "            ind_session = ind_popular[i*window_size : i*window_size + session_length ]\n",
    "            ind2 = np.append(ind2, ind_session)\n",
    "            # запишем время посешения сайта  в матрицу по сессиям длины session_length и с окном длины window_size\n",
    "            ar2_time = np.append(ar_time, ar_time[i*window_size : i*window_size + session_length ])\n",
    "            \n",
    "            if i == N_rows: break \n",
    "            N_top_site[i] = np.sum(ind_session) # колличество top сайтов в сессии \n",
    "            #print (N_unique_site[i])\n",
    "           \n",
    "        # добавим в пустые значения 0\n",
    "        ind2 = np.append(ind2, np.tile(False, (N_rows*session_length - len(ind2))))\n",
    "        # добавим в пустые значения последнее время\n",
    "        ar2_time = np.append(ar2_time,np.tile(ar2_time[-1], (N_rows*session_length - len(ar2_time))))\n",
    "        \n",
    "        # convert array to matrixs\n",
    "        ind2          = ind2.reshape((N_rows, session_length))          # convert array to matrix\n",
    "        ar2_time      = ar2_time.reshape((N_rows, session_length))      # convert array to matrix\n",
    "        \n",
    "        # time's difference between a site and a next site at the session in second\n",
    "        diff_time  = np.diff(ar2_time, axis =1)/np.timedelta64(1, 's')\n",
    "        \n",
    "        # time of the open of the popular site from site_top_list\n",
    "        pop_time   =  np.where(ind2, ar2_time, np.datetime64('nat'))\n",
    "        # difference between the pop site and next in second\n",
    "        diff_pop_time = np.where(ind2[:,:-1], diff_time, 0)\n",
    "        \n",
    "        #print (pop_time.shape, diff_pop_time.shape)\n",
    "        # количество site_top_list в сессии\n",
    "        N_top_site = N_top_site.reshape((N_rows, 1))\n",
    "        \n",
    "        # минимальное время посещения site_top_list in hours\n",
    "        min_pop_time = (pd.to_datetime(np.min(pop_time, axis =1))).hour \n",
    "        min_pop_time = (np.where(min_pop_time >0, min_pop_time, 0)).reshape((N_rows, 1))\n",
    "        # максимальное  время посещения site_top_list in hours\n",
    "        day_pop_time = ((pd.to_datetime(np.max(pop_time, axis =1))).dayofweek)\n",
    "        day_pop_time = (np.where(day_pop_time >0, day_pop_time, 0)).reshape((N_rows, 1))\n",
    "        \n",
    "        # минимальное время между посещениями site_top_list and next в одной сессии в секундах\n",
    "        mean_pop_diff = np.mean(diff_pop_time, axis =1).reshape((N_rows, 1))\n",
    "        \n",
    "        \n",
    "        \n",
    "        # максимальное время между посещениями site_top_list and next в одной сессии в секундах\n",
    "        max_pop_diff = (np.max(diff_pop_time, axis =1)).reshape((N_rows, 1))\n",
    "        \n",
    "        #print (N_top_site.shape, min_pop_time.shape, max_pop_time.shape, min_pop_diff.shape, max_pop_diff.shape)\n",
    "        \n",
    "        \n",
    "        matrix = np.hstack((N_top_site, min_pop_time, day_pop_time, mean_pop_diff, max_pop_diff))\n",
    "        #print ('matrix  ',matrix.shape)\n",
    "        \n",
    "                           \n",
    "        data_ = pd.DataFrame(matrix, columns = feature_names[:-1], dtype = np.int64) \n",
    "        # target\n",
    "        data_[feature_names[-1]] = df['id']\n",
    "        \n",
    "        data = data.append(data_)\n",
    "        #print (data.head())\n",
    "        \n",
    "    return data.astype(np.int64)\n"
   ]
  },
  {
   "cell_type": "code",
   "execution_count": 3,
   "metadata": {},
   "outputs": [],
   "source": [
    "with open('capstone_websites_data/site_freq_3users.pkl' ) as dic_pkl:\n",
    "    dic_freq_3users =pickle.load(dic_pkl)    # dictionary where keys are site names values are (site_id, frequency of site_id)"
   ]
  },
  {
   "cell_type": "code",
   "execution_count": 4,
   "metadata": {},
   "outputs": [
    {
     "data": {
      "text/plain": [
       "[('mail.google.com', (6, 2)),\n",
       " ('meduza.io', (10, 3)),\n",
       " ('google.com', (4, 9)),\n",
       " ('plus.google.com', (8, 1)),\n",
       " ('oracle.com', (2, 8)),\n",
       " ('accounts.google.com', (5, 1)),\n",
       " ('apis.google.com', (7, 1)),\n",
       " ('yandex.ru', (11, 1)),\n",
       " ('vk.com', (1, 3)),\n",
       " ('football.kulichki.ru', (9, 2)),\n",
       " ('geo.mozilla.org', (3, 1))]"
      ]
     },
     "execution_count": 4,
     "metadata": {},
     "output_type": "execute_result"
    }
   ],
   "source": [
    "dic_freq_3users.items()"
   ]
  },
  {
   "cell_type": "code",
   "execution_count": 5,
   "metadata": {
    "collapsed": true
   },
   "outputs": [],
   "source": [
    "top_list = [2, 4]"
   ]
  },
  {
   "cell_type": "code",
   "execution_count": 6,
   "metadata": {},
   "outputs": [
    {
     "name": "stdout",
     "output_type": "stream",
     "text": [
      "prepare_train_set_with_feature engineering\n"
     ]
    }
   ],
   "source": [
    "feature_names = ['Numbe_top_site', 'min_popular_time', 'day_popular_time', 'mean_popular_diff', 'max_popular_diff', 'target']\n",
    "\n",
    "train_data_toy  = feature_engineering('capstone_websites_data/3users_toy/*',\n",
    "                                      site_freq_path='capstone_websites_data/site_freq_3users.pkl',\n",
    "                                      site_top_list =top_list, feature_names = feature_names )#, session_length=10, window_size=10)"
   ]
  },
  {
   "cell_type": "code",
   "execution_count": 7,
   "metadata": {},
   "outputs": [
    {
     "data": {
      "text/html": [
       "<div>\n",
       "<table border=\"1\" class=\"dataframe\">\n",
       "  <thead>\n",
       "    <tr style=\"text-align: right;\">\n",
       "      <th></th>\n",
       "      <th>Numbe_top_site</th>\n",
       "      <th>min_popular_time</th>\n",
       "      <th>day_popular_time</th>\n",
       "      <th>mean_popular_diff</th>\n",
       "      <th>max_popular_diff</th>\n",
       "      <th>target</th>\n",
       "    </tr>\n",
       "  </thead>\n",
       "  <tbody>\n",
       "    <tr>\n",
       "      <th>0</th>\n",
       "      <td>4</td>\n",
       "      <td>9</td>\n",
       "      <td>4</td>\n",
       "      <td>829</td>\n",
       "      <td>6278</td>\n",
       "      <td>1</td>\n",
       "    </tr>\n",
       "    <tr>\n",
       "      <th>1</th>\n",
       "      <td>3</td>\n",
       "      <td>12</td>\n",
       "      <td>4</td>\n",
       "      <td>6</td>\n",
       "      <td>55</td>\n",
       "      <td>1</td>\n",
       "    </tr>\n",
       "    <tr>\n",
       "      <th>0</th>\n",
       "      <td>2</td>\n",
       "      <td>9</td>\n",
       "      <td>4</td>\n",
       "      <td>131</td>\n",
       "      <td>1184</td>\n",
       "      <td>2</td>\n",
       "    </tr>\n",
       "    <tr>\n",
       "      <th>0</th>\n",
       "      <td>6</td>\n",
       "      <td>9</td>\n",
       "      <td>4</td>\n",
       "      <td>850</td>\n",
       "      <td>6278</td>\n",
       "      <td>3</td>\n",
       "    </tr>\n",
       "    <tr>\n",
       "      <th>1</th>\n",
       "      <td>2</td>\n",
       "      <td>12</td>\n",
       "      <td>4</td>\n",
       "      <td>131</td>\n",
       "      <td>1184</td>\n",
       "      <td>3</td>\n",
       "    </tr>\n",
       "  </tbody>\n",
       "</table>\n",
       "</div>"
      ],
      "text/plain": [
       "   Numbe_top_site  min_popular_time  day_popular_time  mean_popular_diff  \\\n",
       "0               4                 9                 4                829   \n",
       "1               3                12                 4                  6   \n",
       "0               2                 9                 4                131   \n",
       "0               6                 9                 4                850   \n",
       "1               2                12                 4                131   \n",
       "\n",
       "   max_popular_diff  target  \n",
       "0              6278       1  \n",
       "1                55       1  \n",
       "0              1184       2  \n",
       "0              6278       3  \n",
       "1              1184       3  "
      ]
     },
     "execution_count": 7,
     "metadata": {},
     "output_type": "execute_result"
    }
   ],
   "source": [
    "train_data_toy"
   ]
  },
  {
   "cell_type": "code",
   "execution_count": 11,
   "metadata": {
    "collapsed": true
   },
   "outputs": [],
   "source": [
    "feature_names = ['N_top_site', 'min_popular_time', 'day_popular_time', 'mean_popular_diff', 'max_popular_diff', 'target']\n",
    "top30_freqs = [x[2] for x in freq_sorted[:30]]\n",
    "top30_sites = [x[1] for x in freq_sorted[:30]]"
   ]
  },
  {
   "cell_type": "code",
   "execution_count": 12,
   "metadata": {},
   "outputs": [
    {
     "data": {
      "text/plain": [
       "[('s.youtube.com', 209, 8300),\n",
       " ('www.google.fr', 51, 7813),\n",
       " ('www.google.com', 8, 5441),\n",
       " ('mail.google.com', 183, 4158),\n",
       " ('www.facebook.com', 3, 4141),\n",
       " ('apis.google.com', 129, 3758),\n",
       " ('r3---sn-gxo5uxg-jqbe.googlevideo.com', 700, 3244),\n",
       " ('r1---sn-gxo5uxg-jqbe.googlevideo.com', 213, 3094),\n",
       " ('plus.google.com', 188, 2630),\n",
       " ('accounts.google.com', 184, 2089),\n",
       " ('r2---sn-gxo5uxg-jqbe.googlevideo.com', 699, 1939),\n",
       " ('fr-mg42.mail.yahoo.com', 627, 1868),\n",
       " ('www.youtube.com', 204, 1804),\n",
       " ('r4---sn-gxo5uxg-jqbe.googlevideo.com', 208, 1702),\n",
       " ('clients1.google.com', 568, 1493),\n",
       " ('download.jboss.org', 1789, 1441),\n",
       " ('s-static.ak.facebook.com', 130, 1388),\n",
       " ('static.ak.facebook.com', 64, 1265),\n",
       " ('i1.ytimg.com', 205, 1232),\n",
       " ('twitter.com', 131, 1204),\n",
       " ('accounts.youtube.com', 185, 1057),\n",
       " ('platform.twitter.com', 68, 1041),\n",
       " ('safebrowsing-cache.google.com', 574, 1039),\n",
       " ('clients6.google.com', 191, 1039),\n",
       " ('translate.google.fr', 1026, 1002),\n",
       " ('api.twitter.com', 1599, 982),\n",
       " ('accounts.google.fr', 186, 974),\n",
       " ('talkgadget.google.com', 1964, 965),\n",
       " ('mts0.google.com', 965, 763),\n",
       " ('clients2.google.com', 187, 748)]"
      ]
     },
     "execution_count": 12,
     "metadata": {},
     "output_type": "execute_result"
    }
   ],
   "source": [
    "freq_sorted[:30]"
   ]
  },
  {
   "cell_type": "code",
   "execution_count": 13,
   "metadata": {},
   "outputs": [
    {
     "name": "stdout",
     "output_type": "stream",
     "text": [
      "prepare_train_set_with_feature engineering\n"
     ]
    }
   ],
   "source": [
    "new_features_10users  = feature_engineering('capstone_websites_data/10users/*',\n",
    "                                      site_freq_path='capstone_websites_data/site_freq_10users.pkl',\n",
    "                                      site_top_list =top30_sites, feature_names = feature_names,\n",
    "                                           session_length=10, window_size=10)"
   ]
  },
  {
   "cell_type": "code",
   "execution_count": 14,
   "metadata": {},
   "outputs": [
    {
     "data": {
      "text/html": [
       "<div>\n",
       "<table border=\"1\" class=\"dataframe\">\n",
       "  <thead>\n",
       "    <tr style=\"text-align: right;\">\n",
       "      <th></th>\n",
       "      <th>N_top_site</th>\n",
       "      <th>min_popular_time</th>\n",
       "      <th>day_popular_time</th>\n",
       "      <th>mean_popular_diff</th>\n",
       "      <th>max_popular_diff</th>\n",
       "      <th>target</th>\n",
       "    </tr>\n",
       "  </thead>\n",
       "  <tbody>\n",
       "    <tr>\n",
       "      <th>0</th>\n",
       "      <td>2</td>\n",
       "      <td>8</td>\n",
       "      <td>4</td>\n",
       "      <td>101</td>\n",
       "      <td>916</td>\n",
       "      <td>31</td>\n",
       "    </tr>\n",
       "    <tr>\n",
       "      <th>1</th>\n",
       "      <td>1</td>\n",
       "      <td>8</td>\n",
       "      <td>4</td>\n",
       "      <td>0</td>\n",
       "      <td>0</td>\n",
       "      <td>31</td>\n",
       "    </tr>\n",
       "    <tr>\n",
       "      <th>2</th>\n",
       "      <td>2</td>\n",
       "      <td>8</td>\n",
       "      <td>4</td>\n",
       "      <td>1</td>\n",
       "      <td>14</td>\n",
       "      <td>31</td>\n",
       "    </tr>\n",
       "    <tr>\n",
       "      <th>3</th>\n",
       "      <td>0</td>\n",
       "      <td>0</td>\n",
       "      <td>0</td>\n",
       "      <td>0</td>\n",
       "      <td>0</td>\n",
       "      <td>31</td>\n",
       "    </tr>\n",
       "    <tr>\n",
       "      <th>4</th>\n",
       "      <td>0</td>\n",
       "      <td>0</td>\n",
       "      <td>0</td>\n",
       "      <td>0</td>\n",
       "      <td>0</td>\n",
       "      <td>31</td>\n",
       "    </tr>\n",
       "  </tbody>\n",
       "</table>\n",
       "</div>"
      ],
      "text/plain": [
       "   N_top_site  min_popular_time  day_popular_time  mean_popular_diff  \\\n",
       "0           2                 8                 4                101   \n",
       "1           1                 8                 4                  0   \n",
       "2           2                 8                 4                  1   \n",
       "3           0                 0                 0                  0   \n",
       "4           0                 0                 0                  0   \n",
       "\n",
       "   max_popular_diff  target  \n",
       "0               916      31  \n",
       "1                 0      31  \n",
       "2                14      31  \n",
       "3                 0      31  \n",
       "4                 0      31  "
      ]
     },
     "execution_count": 14,
     "metadata": {},
     "output_type": "execute_result"
    }
   ],
   "source": [
    "new_features_10users.head()"
   ]
  },
  {
   "cell_type": "code",
   "execution_count": 40,
   "metadata": {
    "collapsed": true
   },
   "outputs": [],
   "source": [
    "with open('capstone_websites_data/site__freq_150users.pkl' ) as dic_pkl:\n",
    "    dic_freq_150users =pickle.load(dic_pkl)    # dictionary where keys are site names values are (site_id, frequency of site_id)"
   ]
  },
  {
   "cell_type": "code",
   "execution_count": 41,
   "metadata": {},
   "outputs": [
    {
     "data": {
      "text/plain": [
       "[('www.google.fr', 1, 64785),\n",
       " ('www.google.com', 3, 51320),\n",
       " ('www.facebook.com', 41, 39002),\n",
       " ('apis.google.com', 2, 29983),\n",
       " ('s.youtube.com', 178, 29102),\n",
       " ('clients1.google.com', 212, 25087),\n",
       " ('mail.google.com', 28, 19072),\n",
       " ('plus.google.com', 27, 18467),\n",
       " ('safebrowsing-cache.google.com', 293, 17960),\n",
       " ('www.youtube.com', 105, 16319),\n",
       " ('twitter.com', 70, 16219),\n",
       " ('platform.twitter.com', 37, 15317),\n",
       " ('s-static.ak.facebook.com', 69, 15048),\n",
       " ('accounts.google.com', 24, 13855),\n",
       " ('www.bing.com', 202, 13797),\n",
       " ('static.ak.facebook.com', 40, 13117),\n",
       " ('i1.ytimg.com', 107, 13117),\n",
       " ('download.jboss.org', 3536, 11740),\n",
       " ('api.twitter.com', 3395, 9350),\n",
       " ('safebrowsing.clients.google.com', 292, 8981),\n",
       " ('r1---sn-gxo5uxg-jqbe.googlevideo.com', 179, 8579),\n",
       " ('fr.openclassrooms.com', 1199, 8100),\n",
       " ('ajax.googleapis.com', 17, 7811),\n",
       " ('r3---sn-gxo5uxg-jqbe.googlevideo.com', 2165, 7482),\n",
       " ('drive.google.com', 246, 7341),\n",
       " ('r2---sn-gxo5uxg-jqbe.googlevideo.com', 177, 7053),\n",
       " ('r4---sn-gxo5uxg-jqbe.googlevideo.com', 1466, 7039),\n",
       " ('s.ytimg.com', 106, 7021),\n",
       " ('login.live.com', 253, 6726),\n",
       " ('fr-mg42.mail.yahoo.com', 2710, 6212)]"
      ]
     },
     "execution_count": 41,
     "metadata": {},
     "output_type": "execute_result"
    }
   ],
   "source": [
    "freq_sorted150 = sorted([(k,v[0],v[1]) for k,v in dic_freq_150users.items()], key= lambda x: x[2], reverse =True )\n",
    "top30_freqs = [x[2] for x in freq_sorted[:10]]\n",
    "top30_sites = [x[1] for x in freq_sorted[:10]]\n",
    "freq_sorted150[:30]"
   ]
  },
  {
   "cell_type": "code",
   "execution_count": 42,
   "metadata": {},
   "outputs": [
    {
     "name": "stdout",
     "output_type": "stream",
     "text": [
      "prepare_train_set_with_feature engineering\n",
      "Wall time: 34.8 s\n"
     ]
    }
   ],
   "source": [
    "%%time\n",
    "new_features_150users  = feature_engineering('capstone_websites_data/150users/*',\n",
    "                                      site_freq_path='capstone_websites_data/site_freq_150users.pkl',\n",
    "                                      site_top_list =top30_sites, feature_names = feature_names,\n",
    "                                           session_length=10, window_size=10)"
   ]
  },
  {
   "cell_type": "code",
   "execution_count": 43,
   "metadata": {},
   "outputs": [
    {
     "data": {
      "text/html": [
       "<div>\n",
       "<table border=\"1\" class=\"dataframe\">\n",
       "  <thead>\n",
       "    <tr style=\"text-align: right;\">\n",
       "      <th></th>\n",
       "      <th>N_top_site</th>\n",
       "      <th>min_popular_time</th>\n",
       "      <th>day_popular_time</th>\n",
       "      <th>mean_popular_diff</th>\n",
       "      <th>max_popular_diff</th>\n",
       "      <th>target</th>\n",
       "    </tr>\n",
       "  </thead>\n",
       "  <tbody>\n",
       "    <tr>\n",
       "      <th>0</th>\n",
       "      <td>2</td>\n",
       "      <td>8</td>\n",
       "      <td>4</td>\n",
       "      <td>0</td>\n",
       "      <td>4</td>\n",
       "      <td>6</td>\n",
       "    </tr>\n",
       "    <tr>\n",
       "      <th>1</th>\n",
       "      <td>0</td>\n",
       "      <td>0</td>\n",
       "      <td>0</td>\n",
       "      <td>0</td>\n",
       "      <td>0</td>\n",
       "      <td>6</td>\n",
       "    </tr>\n",
       "    <tr>\n",
       "      <th>2</th>\n",
       "      <td>2</td>\n",
       "      <td>9</td>\n",
       "      <td>4</td>\n",
       "      <td>0</td>\n",
       "      <td>0</td>\n",
       "      <td>6</td>\n",
       "    </tr>\n",
       "    <tr>\n",
       "      <th>3</th>\n",
       "      <td>2</td>\n",
       "      <td>9</td>\n",
       "      <td>4</td>\n",
       "      <td>0</td>\n",
       "      <td>0</td>\n",
       "      <td>6</td>\n",
       "    </tr>\n",
       "    <tr>\n",
       "      <th>4</th>\n",
       "      <td>2</td>\n",
       "      <td>9</td>\n",
       "      <td>4</td>\n",
       "      <td>0</td>\n",
       "      <td>0</td>\n",
       "      <td>6</td>\n",
       "    </tr>\n",
       "  </tbody>\n",
       "</table>\n",
       "</div>"
      ],
      "text/plain": [
       "   N_top_site  min_popular_time  day_popular_time  mean_popular_diff  \\\n",
       "0           2                 8                 4                  0   \n",
       "1           0                 0                 0                  0   \n",
       "2           2                 9                 4                  0   \n",
       "3           2                 9                 4                  0   \n",
       "4           2                 9                 4                  0   \n",
       "\n",
       "   max_popular_diff  target  \n",
       "0                 4       6  \n",
       "1                 0       6  \n",
       "2                 0       6  \n",
       "3                 0       6  \n",
       "4                 0       6  "
      ]
     },
     "execution_count": 43,
     "metadata": {},
     "output_type": "execute_result"
    }
   ],
   "source": [
    "new_features_150users.head()"
   ]
  },
  {
   "cell_type": "markdown",
   "metadata": {},
   "source": [
    "**10. Построем картинки для новых признаков.**"
   ]
  },
  {
   "cell_type": "code",
   "execution_count": 44,
   "metadata": {},
   "outputs": [
    {
     "data": {
      "text/plain": [
       "{31: 'John',\n",
       " 33: 'Bob',\n",
       " 39: 'Ashley',\n",
       " 50: 'Bill',\n",
       " 100: 'Dick',\n",
       " 127: 'Naomi',\n",
       " 128: 'Mary-Kate',\n",
       " 207: 'Lindsey',\n",
       " 237: 'Avril',\n",
       " 241: 'Ed'}"
      ]
     },
     "execution_count": 44,
     "metadata": {},
     "output_type": "execute_result"
    }
   ],
   "source": [
    "id_name_dict"
   ]
  },
  {
   "cell_type": "code",
   "execution_count": 45,
   "metadata": {},
   "outputs": [],
   "source": [
    "new_features_10users['target'] = new_features_10users['target'].map(id_name_dict)"
   ]
  },
  {
   "cell_type": "code",
   "execution_count": 46,
   "metadata": {},
   "outputs": [
    {
     "data": {
      "text/html": [
       "<div>\n",
       "<table border=\"1\" class=\"dataframe\">\n",
       "  <thead>\n",
       "    <tr style=\"text-align: right;\">\n",
       "      <th></th>\n",
       "      <th>N_top_site</th>\n",
       "      <th>min_popular_time</th>\n",
       "      <th>day_popular_time</th>\n",
       "      <th>mean_popular_diff</th>\n",
       "      <th>max_popular_diff</th>\n",
       "      <th>target</th>\n",
       "    </tr>\n",
       "  </thead>\n",
       "  <tbody>\n",
       "    <tr>\n",
       "      <th>0</th>\n",
       "      <td>2</td>\n",
       "      <td>8</td>\n",
       "      <td>4</td>\n",
       "      <td>101</td>\n",
       "      <td>916</td>\n",
       "      <td>John</td>\n",
       "    </tr>\n",
       "    <tr>\n",
       "      <th>1</th>\n",
       "      <td>1</td>\n",
       "      <td>8</td>\n",
       "      <td>4</td>\n",
       "      <td>0</td>\n",
       "      <td>0</td>\n",
       "      <td>John</td>\n",
       "    </tr>\n",
       "    <tr>\n",
       "      <th>2</th>\n",
       "      <td>2</td>\n",
       "      <td>8</td>\n",
       "      <td>4</td>\n",
       "      <td>1</td>\n",
       "      <td>14</td>\n",
       "      <td>John</td>\n",
       "    </tr>\n",
       "    <tr>\n",
       "      <th>3</th>\n",
       "      <td>0</td>\n",
       "      <td>0</td>\n",
       "      <td>0</td>\n",
       "      <td>0</td>\n",
       "      <td>0</td>\n",
       "      <td>John</td>\n",
       "    </tr>\n",
       "    <tr>\n",
       "      <th>4</th>\n",
       "      <td>0</td>\n",
       "      <td>0</td>\n",
       "      <td>0</td>\n",
       "      <td>0</td>\n",
       "      <td>0</td>\n",
       "      <td>John</td>\n",
       "    </tr>\n",
       "  </tbody>\n",
       "</table>\n",
       "</div>"
      ],
      "text/plain": [
       "   N_top_site  min_popular_time  day_popular_time  mean_popular_diff  \\\n",
       "0           2                 8                 4                101   \n",
       "1           1                 8                 4                  0   \n",
       "2           2                 8                 4                  1   \n",
       "3           0                 0                 0                  0   \n",
       "4           0                 0                 0                  0   \n",
       "\n",
       "   max_popular_diff target  \n",
       "0               916   John  \n",
       "1                 0   John  \n",
       "2                14   John  \n",
       "3                 0   John  \n",
       "4                 0   John  "
      ]
     },
     "execution_count": 46,
     "metadata": {},
     "output_type": "execute_result"
    }
   ],
   "source": [
    "new_features_10users.head()"
   ]
  },
  {
   "cell_type": "code",
   "execution_count": 47,
   "metadata": {},
   "outputs": [
    {
     "data": {
      "image/png": "[encoded data removed]",
      "text/plain": [
       "<matplotlib.figure.Figure at 0xfcb1898>"
      ]
     },
     "metadata": {},
     "output_type": "display_data"
    }
   ],
   "source": [
    "fig, axes = plt.subplots(nrows=3, ncols=4, figsize=(16, 10))\n",
    "axes = axes.ravel()\n",
    "# как вариант, можно и по-другому\n",
    "for idx, (user, sub_df) in  enumerate(pd.groupby(new_features_10users, 'target')): \n",
    "      \n",
    "    axes[idx].hist(sub_df['N_top_site'][sub_df['N_top_site']>0] , color = color_dic[user], label = user)\n",
    "    \n",
    "    axes[idx].set_xlabel(u'N_top_sites')\n",
    "    axes[idx].axis([0, 10, 0, 700])\n",
    "    #axes[idx].set_xticklabels([u'Пн', u'Вт', u'Ср', u'Чт', u'Пт', u'Сб', u'Вс'])\n",
    "    axes[idx].set_ylabel(u'частота')\n",
    "    axes[idx].legend()"
   ]
  },
  {
   "cell_type": "code",
   "execution_count": 48,
   "metadata": {},
   "outputs": [
    {
     "data": {
      "image/png": "[encoded data removed]",
      "text/plain": [
       "<matplotlib.figure.Figure at 0x1483e780>"
      ]
     },
     "metadata": {},
     "output_type": "display_data"
    }
   ],
   "source": [
    "fig, axes = plt.subplots(nrows=3, ncols=4, figsize=(16, 10))\n",
    "axes = axes.ravel()\n",
    "# как вариант, можно и по-другому\n",
    "for idx, (user, sub_df) in  enumerate(pd.groupby(new_features_10users, 'target')):\n",
    "    \n",
    "    axes[idx].hist(sub_df['min_popular_time'][sub_df['min_popular_time']>0] ,bins =24, color = color_dic[user], label = user)\n",
    "    \n",
    "    axes[idx].set_xlabel(u'первое время захода сайт ТОП')\n",
    "    axes[idx].axis([0, 24, 0, 300])\n",
    "    axes[idx].set_ylabel(u'частота')\n",
    "    axes[idx].legend()"
   ]
  },
  {
   "cell_type": "code",
   "execution_count": 49,
   "metadata": {},
   "outputs": [
    {
     "data": {
      "image/png": "[encoded data removed]",
      "text/plain": [
       "<matplotlib.figure.Figure at 0xbaab7b8>"
      ]
     },
     "metadata": {},
     "output_type": "display_data"
    }
   ],
   "source": [
    "fig, axes = plt.subplots(nrows=3, ncols=4, figsize=(16, 10))\n",
    "axes = axes.ravel()\n",
    "# как вариант, можно и по-другому\n",
    "for idx, (user, sub_df) in  enumerate(pd.groupby(new_features_10users, 'target')):\n",
    "    \n",
    "    axes[idx].hist(sub_df['day_popular_time'] ,bins =7, color = color_dic[user], label = user)\n",
    "    \n",
    "    axes[idx].set_xlabel(u'день захода на сайт ТОП')\n",
    "    axes[idx].axis([0, 7, 0, 600])\n",
    "    axes[idx].set_ylabel(u'частота')\n",
    "    axes[idx].legend()"
   ]
  },
  {
   "cell_type": "markdown",
   "metadata": {},
   "source": [
    "- построим гистограмму максимального времени проведенного на сайте из ТОП_30 в логарифмической шкале"
   ]
  },
  {
   "cell_type": "code",
   "execution_count": 50,
   "metadata": {},
   "outputs": [
    {
     "data": {
      "image/png": "[encoded data removed]",
      "text/plain": [
       "<matplotlib.figure.Figure at 0xf79ad68>"
      ]
     },
     "metadata": {},
     "output_type": "display_data"
    }
   ],
   "source": [
    "plt.hist(np.log2(new_features_10users['max_popular_diff'][new_features_10users['max_popular_diff']>2]), bins = 100)\n",
    "plt.show()"
   ]
  },
  {
   "cell_type": "markdown",
   "metadata": {},
   "source": [
    "- построим гистограмму максимального времени проведенного на сайте из ТОП_30 в логарифмической шкале для каждого пользователя"
   ]
  },
  {
   "cell_type": "code",
   "execution_count": 51,
   "metadata": {},
   "outputs": [
    {
     "data": {
      "image/png": "[encoded data removed]",
      "text/plain": [
       "<matplotlib.figure.Figure at 0x12e201d0>"
      ]
     },
     "metadata": {},
     "output_type": "display_data"
    }
   ],
   "source": [
    "fig, axes = plt.subplots(nrows=3, ncols=4, figsize=(16, 10))\n",
    "plt.xticks(rotation=90)\n",
    "axes = axes.ravel()\n",
    "# как вариант, можно и по-другому\n",
    "for idx, (user, sub_df) in  enumerate(pd.groupby(new_features_10users, 'target')):\n",
    "    data = np.log2(sub_df['max_popular_diff'][sub_df['max_popular_diff']>2])\n",
    "    axes[idx].hist( data, bins =100, color = color_dic[user], label = user)\n",
    "    \n",
    "    axes[idx].set_xlabel(u'макс время проведенное на сайт ТОП')\n",
    "    axes[idx].axis([0, 20, 0, 40])\n",
    "    \n",
    "    axes[idx].set_ylabel(u'частота')\n",
    "    axes[idx].legend()"
   ]
  },
  {
   "cell_type": "markdown",
   "metadata": {},
   "source": [
    "- построим гистограмму среднего времени проведенного на сайте из ТОП_30 в логарифмической шкале для каждого пользователя"
   ]
  },
  {
   "cell_type": "code",
   "execution_count": 52,
   "metadata": {},
   "outputs": [
    {
     "data": {
      "image/png": "[encoded data removed]",
      "text/plain": [
       "<matplotlib.figure.Figure at 0x11fec588>"
      ]
     },
     "metadata": {},
     "output_type": "display_data"
    }
   ],
   "source": [
    "plt.hist(np.log2(new_features_10users['mean_popular_diff'][new_features_10users['mean_popular_diff']>2]), bins = 100)\n",
    "plt.show()"
   ]
  },
  {
   "cell_type": "code",
   "execution_count": 53,
   "metadata": {},
   "outputs": [
    {
     "data": {
      "image/png": "[encoded data removed]",
      "text/plain": [
       "<matplotlib.figure.Figure at 0x134b0908>"
      ]
     },
     "metadata": {},
     "output_type": "display_data"
    }
   ],
   "source": [
    "fig, axes = plt.subplots(nrows=3, ncols=4, figsize=(16, 10))\n",
    "plt.xticks(rotation=90)\n",
    "axes = axes.ravel()\n",
    "# как вариант, можно и по-другому\n",
    "for idx, (user, sub_df) in  enumerate(pd.groupby(new_features_10users, 'target')):\n",
    "    data = np.log2(sub_df['mean_popular_diff'][sub_df['mean_popular_diff']>2])\n",
    "    axes[idx].hist( data, bins =100, color = color_dic[user], label = user)\n",
    "    \n",
    "    axes[idx].set_xlabel(u'сред время проведенное на сайт ТОП')\n",
    "    axes[idx].axis([0, 20, 0, 40])\n",
    "    \n",
    "    axes[idx].set_ylabel(u'частота')\n",
    "    axes[idx].legend()"
   ]
  },
  {
   "cell_type": "code",
   "execution_count": 54,
   "metadata": {},
   "outputs": [
    {
     "data": {
      "text/plain": [
       "['N_top_site',\n",
       " 'min_popular_time',\n",
       " 'day_popular_time',\n",
       " 'mean_popular_diff',\n",
       " 'max_popular_diff',\n",
       " 'target']"
      ]
     },
     "execution_count": 54,
     "metadata": {},
     "output_type": "execute_result"
    }
   ],
   "source": [
    "feature_names"
   ]
  },
  {
   "cell_type": "markdown",
   "metadata": {},
   "source": [
    "- проанализировав картинки можно сделать вывод что все признаки а именно: 'N_top_site', 'min_popular_time', 'day_popular_time',  'mean_popular_diff', 'max_popular_diff', 'target' можно использовать \n",
    "- еще я бы добавил N_gramm для начала из двух сайтов подряд чтобы посмотреть какие сайты чаще всего идут друг за другом но надо остерегаться \"проклятия размерности\""
   ]
  },
  {
   "cell_type": "markdown",
   "metadata": {},
   "source": [
    "**В конце сохраним в pickle-файлы только те признаки, которые, помогут идентифицировать пользователя более точно. Это касается и признаков, которые  созданы в начале (*session_timespan, time_diff1,..., time_diff9, #unique_sites, start_hour, day_of_week*), и Ваших собственных. Можно создать все эти признаки не только для сессий из 10 сайтов, но и для других сочетаний параметров *session_length* и *window_size*.**"
   ]
  },
  {
   "cell_type": "code",
   "execution_count": 55,
   "metadata": {},
   "outputs": [
    {
     "data": {
      "text/html": [
       "<div>\n",
       "<table border=\"1\" class=\"dataframe\">\n",
       "  <thead>\n",
       "    <tr style=\"text-align: right;\">\n",
       "      <th></th>\n",
       "      <th>site1</th>\n",
       "      <th>site2</th>\n",
       "      <th>site3</th>\n",
       "      <th>site4</th>\n",
       "      <th>site5</th>\n",
       "      <th>site6</th>\n",
       "      <th>site7</th>\n",
       "      <th>site8</th>\n",
       "      <th>site9</th>\n",
       "      <th>site10</th>\n",
       "      <th>time_diff1</th>\n",
       "      <th>time_diff2</th>\n",
       "      <th>time_diff3</th>\n",
       "      <th>time_diff4</th>\n",
       "      <th>time_diff5</th>\n",
       "      <th>time_diff6</th>\n",
       "      <th>time_diff7</th>\n",
       "      <th>time_diff8</th>\n",
       "      <th>time_diff9</th>\n",
       "      <th>session_timespan</th>\n",
       "      <th>#unique_sites</th>\n",
       "      <th>start_hour</th>\n",
       "      <th>day_of_week</th>\n",
       "      <th>target</th>\n",
       "    </tr>\n",
       "  </thead>\n",
       "  <tbody>\n",
       "    <tr>\n",
       "      <th>0</th>\n",
       "      <td>1</td>\n",
       "      <td>2</td>\n",
       "      <td>2</td>\n",
       "      <td>3</td>\n",
       "      <td>4</td>\n",
       "      <td>5</td>\n",
       "      <td>6</td>\n",
       "      <td>7</td>\n",
       "      <td>8</td>\n",
       "      <td>7</td>\n",
       "      <td>273</td>\n",
       "      <td>3</td>\n",
       "      <td>28</td>\n",
       "      <td>916</td>\n",
       "      <td>-1523</td>\n",
       "      <td>10</td>\n",
       "      <td>0</td>\n",
       "      <td>0</td>\n",
       "      <td>1</td>\n",
       "      <td>1523</td>\n",
       "      <td>8</td>\n",
       "      <td>8</td>\n",
       "      <td>4</td>\n",
       "      <td>John</td>\n",
       "    </tr>\n",
       "    <tr>\n",
       "      <th>1</th>\n",
       "      <td>7</td>\n",
       "      <td>8</td>\n",
       "      <td>7</td>\n",
       "      <td>7</td>\n",
       "      <td>9</td>\n",
       "      <td>10</td>\n",
       "      <td>11</td>\n",
       "      <td>12</td>\n",
       "      <td>13</td>\n",
       "      <td>14</td>\n",
       "      <td>1</td>\n",
       "      <td>0</td>\n",
       "      <td>1</td>\n",
       "      <td>0</td>\n",
       "      <td>0</td>\n",
       "      <td>1</td>\n",
       "      <td>0</td>\n",
       "      <td>163</td>\n",
       "      <td>105</td>\n",
       "      <td>271</td>\n",
       "      <td>8</td>\n",
       "      <td>8</td>\n",
       "      <td>4</td>\n",
       "      <td>John</td>\n",
       "    </tr>\n",
       "    <tr>\n",
       "      <th>2</th>\n",
       "      <td>7</td>\n",
       "      <td>15</td>\n",
       "      <td>16</td>\n",
       "      <td>17</td>\n",
       "      <td>17</td>\n",
       "      <td>8</td>\n",
       "      <td>17</td>\n",
       "      <td>17</td>\n",
       "      <td>10</td>\n",
       "      <td>3</td>\n",
       "      <td>4</td>\n",
       "      <td>3</td>\n",
       "      <td>8</td>\n",
       "      <td>1</td>\n",
       "      <td>0</td>\n",
       "      <td>14</td>\n",
       "      <td>1</td>\n",
       "      <td>242</td>\n",
       "      <td>0</td>\n",
       "      <td>273</td>\n",
       "      <td>7</td>\n",
       "      <td>8</td>\n",
       "      <td>4</td>\n",
       "      <td>John</td>\n",
       "    </tr>\n",
       "    <tr>\n",
       "      <th>3</th>\n",
       "      <td>18</td>\n",
       "      <td>19</td>\n",
       "      <td>20</td>\n",
       "      <td>17</td>\n",
       "      <td>21</td>\n",
       "      <td>17</td>\n",
       "      <td>17</td>\n",
       "      <td>17</td>\n",
       "      <td>17</td>\n",
       "      <td>22</td>\n",
       "      <td>1</td>\n",
       "      <td>0</td>\n",
       "      <td>0</td>\n",
       "      <td>2</td>\n",
       "      <td>1</td>\n",
       "      <td>1</td>\n",
       "      <td>25</td>\n",
       "      <td>1</td>\n",
       "      <td>0</td>\n",
       "      <td>31</td>\n",
       "      <td>6</td>\n",
       "      <td>8</td>\n",
       "      <td>4</td>\n",
       "      <td>John</td>\n",
       "    </tr>\n",
       "    <tr>\n",
       "      <th>4</th>\n",
       "      <td>23</td>\n",
       "      <td>24</td>\n",
       "      <td>25</td>\n",
       "      <td>17</td>\n",
       "      <td>26</td>\n",
       "      <td>27</td>\n",
       "      <td>28</td>\n",
       "      <td>29</td>\n",
       "      <td>30</td>\n",
       "      <td>31</td>\n",
       "      <td>0</td>\n",
       "      <td>0</td>\n",
       "      <td>1</td>\n",
       "      <td>1</td>\n",
       "      <td>1</td>\n",
       "      <td>1</td>\n",
       "      <td>0</td>\n",
       "      <td>1</td>\n",
       "      <td>1</td>\n",
       "      <td>6</td>\n",
       "      <td>10</td>\n",
       "      <td>8</td>\n",
       "      <td>4</td>\n",
       "      <td>John</td>\n",
       "    </tr>\n",
       "  </tbody>\n",
       "</table>\n",
       "</div>"
      ],
      "text/plain": [
       "   site1  site2  site3  site4  site5  site6  site7  site8  site9  site10  \\\n",
       "0      1      2      2      3      4      5      6      7      8       7   \n",
       "1      7      8      7      7      9     10     11     12     13      14   \n",
       "2      7     15     16     17     17      8     17     17     10       3   \n",
       "3     18     19     20     17     21     17     17     17     17      22   \n",
       "4     23     24     25     17     26     27     28     29     30      31   \n",
       "\n",
       "   time_diff1  time_diff2  time_diff3  time_diff4  time_diff5  time_diff6  \\\n",
       "0         273           3          28         916       -1523          10   \n",
       "1           1           0           1           0           0           1   \n",
       "2           4           3           8           1           0          14   \n",
       "3           1           0           0           2           1           1   \n",
       "4           0           0           1           1           1           1   \n",
       "\n",
       "   time_diff7  time_diff8  time_diff9  session_timespan  #unique_sites  \\\n",
       "0           0           0           1              1523              8   \n",
       "1           0         163         105               271              8   \n",
       "2           1         242           0               273              7   \n",
       "3          25           1           0                31              6   \n",
       "4           0           1           1                 6             10   \n",
       "\n",
       "   start_hour  day_of_week target  \n",
       "0           8            4   John  \n",
       "1           8            4   John  \n",
       "2           8            4   John  \n",
       "3           8            4   John  \n",
       "4           8            4   John  "
      ]
     },
     "execution_count": 55,
     "metadata": {},
     "output_type": "execute_result"
    }
   ],
   "source": [
    "train_data_10users.head()"
   ]
  },
  {
   "cell_type": "code",
   "execution_count": 56,
   "metadata": {},
   "outputs": [
    {
     "data": {
      "text/html": [
       "<div>\n",
       "<table border=\"1\" class=\"dataframe\">\n",
       "  <thead>\n",
       "    <tr style=\"text-align: right;\">\n",
       "      <th></th>\n",
       "      <th>time_diff1</th>\n",
       "      <th>time_diff2</th>\n",
       "      <th>time_diff3</th>\n",
       "      <th>time_diff4</th>\n",
       "      <th>time_diff5</th>\n",
       "      <th>time_diff6</th>\n",
       "      <th>time_diff7</th>\n",
       "      <th>time_diff8</th>\n",
       "      <th>time_diff9</th>\n",
       "      <th>#unique_sites</th>\n",
       "      <th>start_hour</th>\n",
       "      <th>day_of_week</th>\n",
       "      <th>target</th>\n",
       "    </tr>\n",
       "  </thead>\n",
       "  <tbody>\n",
       "    <tr>\n",
       "      <th>0</th>\n",
       "      <td>273</td>\n",
       "      <td>3</td>\n",
       "      <td>28</td>\n",
       "      <td>916</td>\n",
       "      <td>-1523</td>\n",
       "      <td>10</td>\n",
       "      <td>0</td>\n",
       "      <td>0</td>\n",
       "      <td>1</td>\n",
       "      <td>8</td>\n",
       "      <td>8</td>\n",
       "      <td>4</td>\n",
       "      <td>John</td>\n",
       "    </tr>\n",
       "    <tr>\n",
       "      <th>1</th>\n",
       "      <td>1</td>\n",
       "      <td>0</td>\n",
       "      <td>1</td>\n",
       "      <td>0</td>\n",
       "      <td>0</td>\n",
       "      <td>1</td>\n",
       "      <td>0</td>\n",
       "      <td>163</td>\n",
       "      <td>105</td>\n",
       "      <td>8</td>\n",
       "      <td>8</td>\n",
       "      <td>4</td>\n",
       "      <td>John</td>\n",
       "    </tr>\n",
       "    <tr>\n",
       "      <th>2</th>\n",
       "      <td>4</td>\n",
       "      <td>3</td>\n",
       "      <td>8</td>\n",
       "      <td>1</td>\n",
       "      <td>0</td>\n",
       "      <td>14</td>\n",
       "      <td>1</td>\n",
       "      <td>242</td>\n",
       "      <td>0</td>\n",
       "      <td>7</td>\n",
       "      <td>8</td>\n",
       "      <td>4</td>\n",
       "      <td>John</td>\n",
       "    </tr>\n",
       "    <tr>\n",
       "      <th>3</th>\n",
       "      <td>1</td>\n",
       "      <td>0</td>\n",
       "      <td>0</td>\n",
       "      <td>2</td>\n",
       "      <td>1</td>\n",
       "      <td>1</td>\n",
       "      <td>25</td>\n",
       "      <td>1</td>\n",
       "      <td>0</td>\n",
       "      <td>6</td>\n",
       "      <td>8</td>\n",
       "      <td>4</td>\n",
       "      <td>John</td>\n",
       "    </tr>\n",
       "    <tr>\n",
       "      <th>4</th>\n",
       "      <td>0</td>\n",
       "      <td>0</td>\n",
       "      <td>1</td>\n",
       "      <td>1</td>\n",
       "      <td>1</td>\n",
       "      <td>1</td>\n",
       "      <td>0</td>\n",
       "      <td>1</td>\n",
       "      <td>1</td>\n",
       "      <td>10</td>\n",
       "      <td>8</td>\n",
       "      <td>4</td>\n",
       "      <td>John</td>\n",
       "    </tr>\n",
       "  </tbody>\n",
       "</table>\n",
       "</div>"
      ],
      "text/plain": [
       "   time_diff1  time_diff2  time_diff3  time_diff4  time_diff5  time_diff6  \\\n",
       "0         273           3          28         916       -1523          10   \n",
       "1           1           0           1           0           0           1   \n",
       "2           4           3           8           1           0          14   \n",
       "3           1           0           0           2           1           1   \n",
       "4           0           0           1           1           1           1   \n",
       "\n",
       "   time_diff7  time_diff8  time_diff9  #unique_sites  start_hour  day_of_week  \\\n",
       "0           0           0           1              8           8            4   \n",
       "1           0         163         105              8           8            4   \n",
       "2           1         242           0              7           8            4   \n",
       "3          25           1           0              6           8            4   \n",
       "4           0           1           1             10           8            4   \n",
       "\n",
       "  target  \n",
       "0   John  \n",
       "1   John  \n",
       "2   John  \n",
       "3   John  \n",
       "4   John  "
      ]
     },
     "execution_count": 56,
     "metadata": {},
     "output_type": "execute_result"
    }
   ],
   "source": [
    "feature_names_select1 = ['time_diff' + str(j) for j in range(1,10)] + \\\n",
    "                ['#unique_sites', 'start_hour', 'day_of_week', 'target']\n",
    "train_data_10users[feature_names_select1].head()"
   ]
  },
  {
   "cell_type": "code",
   "execution_count": 60,
   "metadata": {},
   "outputs": [
    {
     "data": {
      "text/html": [
       "<div>\n",
       "<table border=\"1\" class=\"dataframe\">\n",
       "  <thead>\n",
       "    <tr style=\"text-align: right;\">\n",
       "      <th></th>\n",
       "      <th>site1</th>\n",
       "      <th>site2</th>\n",
       "      <th>site3</th>\n",
       "      <th>site4</th>\n",
       "      <th>site5</th>\n",
       "      <th>site6</th>\n",
       "      <th>site7</th>\n",
       "      <th>site8</th>\n",
       "      <th>site9</th>\n",
       "      <th>site10</th>\n",
       "      <th>time_diff1</th>\n",
       "      <th>time_diff2</th>\n",
       "      <th>...</th>\n",
       "      <th>time_diff8</th>\n",
       "      <th>time_diff9</th>\n",
       "      <th>session_timespan</th>\n",
       "      <th>#unique_sites</th>\n",
       "      <th>start_hour</th>\n",
       "      <th>day_of_week</th>\n",
       "      <th>target</th>\n",
       "      <th>N_top_site</th>\n",
       "      <th>min_popular_time</th>\n",
       "      <th>day_popular_time</th>\n",
       "      <th>mean_popular_diff</th>\n",
       "      <th>max_popular_diff</th>\n",
       "    </tr>\n",
       "  </thead>\n",
       "  <tbody>\n",
       "    <tr>\n",
       "      <th>0</th>\n",
       "      <td>1</td>\n",
       "      <td>2</td>\n",
       "      <td>2</td>\n",
       "      <td>3</td>\n",
       "      <td>4</td>\n",
       "      <td>5</td>\n",
       "      <td>6</td>\n",
       "      <td>7</td>\n",
       "      <td>8</td>\n",
       "      <td>7</td>\n",
       "      <td>273</td>\n",
       "      <td>3</td>\n",
       "      <td>...</td>\n",
       "      <td>0</td>\n",
       "      <td>1</td>\n",
       "      <td>1523</td>\n",
       "      <td>8</td>\n",
       "      <td>8</td>\n",
       "      <td>4</td>\n",
       "      <td>John</td>\n",
       "      <td>2</td>\n",
       "      <td>8</td>\n",
       "      <td>4</td>\n",
       "      <td>101</td>\n",
       "      <td>916</td>\n",
       "    </tr>\n",
       "    <tr>\n",
       "      <th>1</th>\n",
       "      <td>7</td>\n",
       "      <td>8</td>\n",
       "      <td>7</td>\n",
       "      <td>7</td>\n",
       "      <td>9</td>\n",
       "      <td>10</td>\n",
       "      <td>11</td>\n",
       "      <td>12</td>\n",
       "      <td>13</td>\n",
       "      <td>14</td>\n",
       "      <td>1</td>\n",
       "      <td>0</td>\n",
       "      <td>...</td>\n",
       "      <td>163</td>\n",
       "      <td>105</td>\n",
       "      <td>271</td>\n",
       "      <td>8</td>\n",
       "      <td>8</td>\n",
       "      <td>4</td>\n",
       "      <td>John</td>\n",
       "      <td>1</td>\n",
       "      <td>8</td>\n",
       "      <td>4</td>\n",
       "      <td>0</td>\n",
       "      <td>0</td>\n",
       "    </tr>\n",
       "    <tr>\n",
       "      <th>2</th>\n",
       "      <td>7</td>\n",
       "      <td>15</td>\n",
       "      <td>16</td>\n",
       "      <td>17</td>\n",
       "      <td>17</td>\n",
       "      <td>8</td>\n",
       "      <td>17</td>\n",
       "      <td>17</td>\n",
       "      <td>10</td>\n",
       "      <td>3</td>\n",
       "      <td>4</td>\n",
       "      <td>3</td>\n",
       "      <td>...</td>\n",
       "      <td>242</td>\n",
       "      <td>0</td>\n",
       "      <td>273</td>\n",
       "      <td>7</td>\n",
       "      <td>8</td>\n",
       "      <td>4</td>\n",
       "      <td>John</td>\n",
       "      <td>2</td>\n",
       "      <td>8</td>\n",
       "      <td>4</td>\n",
       "      <td>1</td>\n",
       "      <td>14</td>\n",
       "    </tr>\n",
       "    <tr>\n",
       "      <th>3</th>\n",
       "      <td>18</td>\n",
       "      <td>19</td>\n",
       "      <td>20</td>\n",
       "      <td>17</td>\n",
       "      <td>21</td>\n",
       "      <td>17</td>\n",
       "      <td>17</td>\n",
       "      <td>17</td>\n",
       "      <td>17</td>\n",
       "      <td>22</td>\n",
       "      <td>1</td>\n",
       "      <td>0</td>\n",
       "      <td>...</td>\n",
       "      <td>1</td>\n",
       "      <td>0</td>\n",
       "      <td>31</td>\n",
       "      <td>6</td>\n",
       "      <td>8</td>\n",
       "      <td>4</td>\n",
       "      <td>John</td>\n",
       "      <td>0</td>\n",
       "      <td>0</td>\n",
       "      <td>0</td>\n",
       "      <td>0</td>\n",
       "      <td>0</td>\n",
       "    </tr>\n",
       "    <tr>\n",
       "      <th>4</th>\n",
       "      <td>23</td>\n",
       "      <td>24</td>\n",
       "      <td>25</td>\n",
       "      <td>17</td>\n",
       "      <td>26</td>\n",
       "      <td>27</td>\n",
       "      <td>28</td>\n",
       "      <td>29</td>\n",
       "      <td>30</td>\n",
       "      <td>31</td>\n",
       "      <td>0</td>\n",
       "      <td>0</td>\n",
       "      <td>...</td>\n",
       "      <td>1</td>\n",
       "      <td>1</td>\n",
       "      <td>6</td>\n",
       "      <td>10</td>\n",
       "      <td>8</td>\n",
       "      <td>4</td>\n",
       "      <td>John</td>\n",
       "      <td>0</td>\n",
       "      <td>0</td>\n",
       "      <td>0</td>\n",
       "      <td>0</td>\n",
       "      <td>0</td>\n",
       "    </tr>\n",
       "  </tbody>\n",
       "</table>\n",
       "<p>5 rows × 29 columns</p>\n",
       "</div>"
      ],
      "text/plain": [
       "   site1  site2  site3  site4  site5  site6  site7  site8  site9  site10  \\\n",
       "0      1      2      2      3      4      5      6      7      8       7   \n",
       "1      7      8      7      7      9     10     11     12     13      14   \n",
       "2      7     15     16     17     17      8     17     17     10       3   \n",
       "3     18     19     20     17     21     17     17     17     17      22   \n",
       "4     23     24     25     17     26     27     28     29     30      31   \n",
       "\n",
       "   time_diff1  time_diff2       ...         time_diff8  time_diff9  \\\n",
       "0         273           3       ...                  0           1   \n",
       "1           1           0       ...                163         105   \n",
       "2           4           3       ...                242           0   \n",
       "3           1           0       ...                  1           0   \n",
       "4           0           0       ...                  1           1   \n",
       "\n",
       "   session_timespan  #unique_sites  start_hour  day_of_week  target  \\\n",
       "0              1523              8           8            4    John   \n",
       "1               271              8           8            4    John   \n",
       "2               273              7           8            4    John   \n",
       "3                31              6           8            4    John   \n",
       "4                 6             10           8            4    John   \n",
       "\n",
       "   N_top_site  min_popular_time  day_popular_time  mean_popular_diff  \\\n",
       "0           2                 8                 4                101   \n",
       "1           1                 8                 4                  0   \n",
       "2           2                 8                 4                  1   \n",
       "3           0                 0                 0                  0   \n",
       "4           0                 0                 0                  0   \n",
       "\n",
       "  max_popular_diff  \n",
       "0              916  \n",
       "1                0  \n",
       "2               14  \n",
       "3                0  \n",
       "4                0  \n",
       "\n",
       "[5 rows x 29 columns]"
      ]
     },
     "execution_count": 60,
     "metadata": {},
     "output_type": "execute_result"
    }
   ],
   "source": [
    "train_data_10users[feature_names[:-1]] = new_features_10users[feature_names[:-1]]\n",
    "train_data_10users.head()"
   ]
  },
  {
   "cell_type": "code",
   "execution_count": 62,
   "metadata": {},
   "outputs": [
    {
     "data": {
      "text/html": [
       "<div>\n",
       "<table border=\"1\" class=\"dataframe\">\n",
       "  <thead>\n",
       "    <tr style=\"text-align: right;\">\n",
       "      <th></th>\n",
       "      <th>time_diff1</th>\n",
       "      <th>time_diff2</th>\n",
       "      <th>time_diff3</th>\n",
       "      <th>time_diff4</th>\n",
       "      <th>time_diff5</th>\n",
       "      <th>time_diff6</th>\n",
       "      <th>time_diff7</th>\n",
       "      <th>time_diff8</th>\n",
       "      <th>time_diff9</th>\n",
       "      <th>#unique_sites</th>\n",
       "      <th>start_hour</th>\n",
       "      <th>day_of_week</th>\n",
       "      <th>target</th>\n",
       "    </tr>\n",
       "  </thead>\n",
       "  <tbody>\n",
       "    <tr>\n",
       "      <th>0</th>\n",
       "      <td>273</td>\n",
       "      <td>3</td>\n",
       "      <td>28</td>\n",
       "      <td>916</td>\n",
       "      <td>-1523</td>\n",
       "      <td>10</td>\n",
       "      <td>0</td>\n",
       "      <td>0</td>\n",
       "      <td>1</td>\n",
       "      <td>8</td>\n",
       "      <td>8</td>\n",
       "      <td>4</td>\n",
       "      <td>John</td>\n",
       "    </tr>\n",
       "    <tr>\n",
       "      <th>1</th>\n",
       "      <td>1</td>\n",
       "      <td>0</td>\n",
       "      <td>1</td>\n",
       "      <td>0</td>\n",
       "      <td>0</td>\n",
       "      <td>1</td>\n",
       "      <td>0</td>\n",
       "      <td>163</td>\n",
       "      <td>105</td>\n",
       "      <td>8</td>\n",
       "      <td>8</td>\n",
       "      <td>4</td>\n",
       "      <td>John</td>\n",
       "    </tr>\n",
       "    <tr>\n",
       "      <th>2</th>\n",
       "      <td>4</td>\n",
       "      <td>3</td>\n",
       "      <td>8</td>\n",
       "      <td>1</td>\n",
       "      <td>0</td>\n",
       "      <td>14</td>\n",
       "      <td>1</td>\n",
       "      <td>242</td>\n",
       "      <td>0</td>\n",
       "      <td>7</td>\n",
       "      <td>8</td>\n",
       "      <td>4</td>\n",
       "      <td>John</td>\n",
       "    </tr>\n",
       "    <tr>\n",
       "      <th>3</th>\n",
       "      <td>1</td>\n",
       "      <td>0</td>\n",
       "      <td>0</td>\n",
       "      <td>2</td>\n",
       "      <td>1</td>\n",
       "      <td>1</td>\n",
       "      <td>25</td>\n",
       "      <td>1</td>\n",
       "      <td>0</td>\n",
       "      <td>6</td>\n",
       "      <td>8</td>\n",
       "      <td>4</td>\n",
       "      <td>John</td>\n",
       "    </tr>\n",
       "    <tr>\n",
       "      <th>4</th>\n",
       "      <td>0</td>\n",
       "      <td>0</td>\n",
       "      <td>1</td>\n",
       "      <td>1</td>\n",
       "      <td>1</td>\n",
       "      <td>1</td>\n",
       "      <td>0</td>\n",
       "      <td>1</td>\n",
       "      <td>1</td>\n",
       "      <td>10</td>\n",
       "      <td>8</td>\n",
       "      <td>4</td>\n",
       "      <td>John</td>\n",
       "    </tr>\n",
       "  </tbody>\n",
       "</table>\n",
       "</div>"
      ],
      "text/plain": [
       "   time_diff1  time_diff2  time_diff3  time_diff4  time_diff5  time_diff6  \\\n",
       "0         273           3          28         916       -1523          10   \n",
       "1           1           0           1           0           0           1   \n",
       "2           4           3           8           1           0          14   \n",
       "3           1           0           0           2           1           1   \n",
       "4           0           0           1           1           1           1   \n",
       "\n",
       "   time_diff7  time_diff8  time_diff9  #unique_sites  start_hour  day_of_week  \\\n",
       "0           0           0           1              8           8            4   \n",
       "1           0         163         105              8           8            4   \n",
       "2           1         242           0              7           8            4   \n",
       "3          25           1           0              6           8            4   \n",
       "4           0           1           1             10           8            4   \n",
       "\n",
       "  target  \n",
       "0   John  \n",
       "1   John  \n",
       "2   John  \n",
       "3   John  \n",
       "4   John  "
      ]
     },
     "execution_count": 62,
     "metadata": {},
     "output_type": "execute_result"
    }
   ],
   "source": [
    "selected_features_10users = train_data_10users[feature_names_select1]\n",
    "selected_features_10users.head()"
   ]
  },
  {
   "cell_type": "code",
   "execution_count": 63,
   "metadata": {},
   "outputs": [
    {
     "data": {
      "text/html": [
       "<div>\n",
       "<table border=\"1\" class=\"dataframe\">\n",
       "  <thead>\n",
       "    <tr style=\"text-align: right;\">\n",
       "      <th></th>\n",
       "      <th>time_diff1</th>\n",
       "      <th>time_diff2</th>\n",
       "      <th>time_diff3</th>\n",
       "      <th>time_diff4</th>\n",
       "      <th>time_diff5</th>\n",
       "      <th>time_diff6</th>\n",
       "      <th>time_diff7</th>\n",
       "      <th>time_diff8</th>\n",
       "      <th>time_diff9</th>\n",
       "      <th>#unique_sites</th>\n",
       "      <th>start_hour</th>\n",
       "      <th>day_of_week</th>\n",
       "      <th>target</th>\n",
       "      <th>N_top_site</th>\n",
       "      <th>min_popular_time</th>\n",
       "      <th>day_popular_time</th>\n",
       "      <th>mean_popular_diff</th>\n",
       "      <th>max_popular_diff</th>\n",
       "    </tr>\n",
       "  </thead>\n",
       "  <tbody>\n",
       "    <tr>\n",
       "      <th>0</th>\n",
       "      <td>273</td>\n",
       "      <td>3</td>\n",
       "      <td>28</td>\n",
       "      <td>916</td>\n",
       "      <td>-1523</td>\n",
       "      <td>10</td>\n",
       "      <td>0</td>\n",
       "      <td>0</td>\n",
       "      <td>1</td>\n",
       "      <td>8</td>\n",
       "      <td>8</td>\n",
       "      <td>4</td>\n",
       "      <td>John</td>\n",
       "      <td>2</td>\n",
       "      <td>8</td>\n",
       "      <td>4</td>\n",
       "      <td>101</td>\n",
       "      <td>916</td>\n",
       "    </tr>\n",
       "    <tr>\n",
       "      <th>1</th>\n",
       "      <td>1</td>\n",
       "      <td>0</td>\n",
       "      <td>1</td>\n",
       "      <td>0</td>\n",
       "      <td>0</td>\n",
       "      <td>1</td>\n",
       "      <td>0</td>\n",
       "      <td>163</td>\n",
       "      <td>105</td>\n",
       "      <td>8</td>\n",
       "      <td>8</td>\n",
       "      <td>4</td>\n",
       "      <td>John</td>\n",
       "      <td>1</td>\n",
       "      <td>8</td>\n",
       "      <td>4</td>\n",
       "      <td>0</td>\n",
       "      <td>0</td>\n",
       "    </tr>\n",
       "    <tr>\n",
       "      <th>2</th>\n",
       "      <td>4</td>\n",
       "      <td>3</td>\n",
       "      <td>8</td>\n",
       "      <td>1</td>\n",
       "      <td>0</td>\n",
       "      <td>14</td>\n",
       "      <td>1</td>\n",
       "      <td>242</td>\n",
       "      <td>0</td>\n",
       "      <td>7</td>\n",
       "      <td>8</td>\n",
       "      <td>4</td>\n",
       "      <td>John</td>\n",
       "      <td>2</td>\n",
       "      <td>8</td>\n",
       "      <td>4</td>\n",
       "      <td>1</td>\n",
       "      <td>14</td>\n",
       "    </tr>\n",
       "    <tr>\n",
       "      <th>3</th>\n",
       "      <td>1</td>\n",
       "      <td>0</td>\n",
       "      <td>0</td>\n",
       "      <td>2</td>\n",
       "      <td>1</td>\n",
       "      <td>1</td>\n",
       "      <td>25</td>\n",
       "      <td>1</td>\n",
       "      <td>0</td>\n",
       "      <td>6</td>\n",
       "      <td>8</td>\n",
       "      <td>4</td>\n",
       "      <td>John</td>\n",
       "      <td>0</td>\n",
       "      <td>0</td>\n",
       "      <td>0</td>\n",
       "      <td>0</td>\n",
       "      <td>0</td>\n",
       "    </tr>\n",
       "    <tr>\n",
       "      <th>4</th>\n",
       "      <td>0</td>\n",
       "      <td>0</td>\n",
       "      <td>1</td>\n",
       "      <td>1</td>\n",
       "      <td>1</td>\n",
       "      <td>1</td>\n",
       "      <td>0</td>\n",
       "      <td>1</td>\n",
       "      <td>1</td>\n",
       "      <td>10</td>\n",
       "      <td>8</td>\n",
       "      <td>4</td>\n",
       "      <td>John</td>\n",
       "      <td>0</td>\n",
       "      <td>0</td>\n",
       "      <td>0</td>\n",
       "      <td>0</td>\n",
       "      <td>0</td>\n",
       "    </tr>\n",
       "  </tbody>\n",
       "</table>\n",
       "</div>"
      ],
      "text/plain": [
       "   time_diff1  time_diff2  time_diff3  time_diff4  time_diff5  time_diff6  \\\n",
       "0         273           3          28         916       -1523          10   \n",
       "1           1           0           1           0           0           1   \n",
       "2           4           3           8           1           0          14   \n",
       "3           1           0           0           2           1           1   \n",
       "4           0           0           1           1           1           1   \n",
       "\n",
       "   time_diff7  time_diff8  time_diff9  #unique_sites  start_hour  day_of_week  \\\n",
       "0           0           0           1              8           8            4   \n",
       "1           0         163         105              8           8            4   \n",
       "2           1         242           0              7           8            4   \n",
       "3          25           1           0              6           8            4   \n",
       "4           0           1           1             10           8            4   \n",
       "\n",
       "  target  N_top_site  min_popular_time  day_popular_time  mean_popular_diff  \\\n",
       "0   John           2                 8                 4                101   \n",
       "1   John           1                 8                 4                  0   \n",
       "2   John           2                 8                 4                  1   \n",
       "3   John           0                 0                 0                  0   \n",
       "4   John           0                 0                 0                  0   \n",
       "\n",
       "   max_popular_diff  \n",
       "0               916  \n",
       "1                 0  \n",
       "2                14  \n",
       "3                 0  \n",
       "4                 0  "
      ]
     },
     "execution_count": 63,
     "metadata": {},
     "output_type": "execute_result"
    }
   ],
   "source": [
    "selected_features_10users[feature_names[:-1]] = new_features_10users[feature_names[:-1]]\n",
    "selected_features_10users.head()"
   ]
  },
  {
   "cell_type": "code",
   "execution_count": 64,
   "metadata": {},
   "outputs": [
    {
     "name": "stdout",
     "output_type": "stream",
     "text": [
      "Wall time: 39 ms\n"
     ]
    }
   ],
   "source": [
    "%%time\n",
    "selected_features_150users = train_data_150users[feature_names_select1]\n",
    "selected_features_150users.head()"
   ]
  },
  {
   "cell_type": "code",
   "execution_count": 65,
   "metadata": {},
   "outputs": [
    {
     "name": "stdout",
     "output_type": "stream",
     "text": [
      "Wall time: 1.21 s\n"
     ]
    },
    {
     "data": {
      "text/html": [
       "<div>\n",
       "<table border=\"1\" class=\"dataframe\">\n",
       "  <thead>\n",
       "    <tr style=\"text-align: right;\">\n",
       "      <th></th>\n",
       "      <th>time_diff1</th>\n",
       "      <th>time_diff2</th>\n",
       "      <th>time_diff3</th>\n",
       "      <th>time_diff4</th>\n",
       "      <th>time_diff5</th>\n",
       "      <th>time_diff6</th>\n",
       "      <th>time_diff7</th>\n",
       "      <th>time_diff8</th>\n",
       "      <th>time_diff9</th>\n",
       "      <th>#unique_sites</th>\n",
       "      <th>start_hour</th>\n",
       "      <th>day_of_week</th>\n",
       "      <th>target</th>\n",
       "      <th>N_top_site</th>\n",
       "      <th>min_popular_time</th>\n",
       "      <th>day_popular_time</th>\n",
       "      <th>mean_popular_diff</th>\n",
       "      <th>max_popular_diff</th>\n",
       "    </tr>\n",
       "  </thead>\n",
       "  <tbody>\n",
       "    <tr>\n",
       "      <th>0</th>\n",
       "      <td>1</td>\n",
       "      <td>1</td>\n",
       "      <td>4</td>\n",
       "      <td>1</td>\n",
       "      <td>0</td>\n",
       "      <td>159</td>\n",
       "      <td>0</td>\n",
       "      <td>1504</td>\n",
       "      <td>4</td>\n",
       "      <td>6</td>\n",
       "      <td>8</td>\n",
       "      <td>4</td>\n",
       "      <td>6</td>\n",
       "      <td>2</td>\n",
       "      <td>8</td>\n",
       "      <td>4</td>\n",
       "      <td>0</td>\n",
       "      <td>4</td>\n",
       "    </tr>\n",
       "    <tr>\n",
       "      <th>1</th>\n",
       "      <td>21</td>\n",
       "      <td>56</td>\n",
       "      <td>1921</td>\n",
       "      <td>18</td>\n",
       "      <td>1999</td>\n",
       "      <td>6</td>\n",
       "      <td>0</td>\n",
       "      <td>3</td>\n",
       "      <td>4</td>\n",
       "      <td>3</td>\n",
       "      <td>8</td>\n",
       "      <td>4</td>\n",
       "      <td>6</td>\n",
       "      <td>0</td>\n",
       "      <td>0</td>\n",
       "      <td>0</td>\n",
       "      <td>0</td>\n",
       "      <td>0</td>\n",
       "    </tr>\n",
       "    <tr>\n",
       "      <th>2</th>\n",
       "      <td>0</td>\n",
       "      <td>1</td>\n",
       "      <td>0</td>\n",
       "      <td>1</td>\n",
       "      <td>0</td>\n",
       "      <td>1</td>\n",
       "      <td>0</td>\n",
       "      <td>0</td>\n",
       "      <td>0</td>\n",
       "      <td>5</td>\n",
       "      <td>9</td>\n",
       "      <td>4</td>\n",
       "      <td>6</td>\n",
       "      <td>2</td>\n",
       "      <td>9</td>\n",
       "      <td>4</td>\n",
       "      <td>0</td>\n",
       "      <td>0</td>\n",
       "    </tr>\n",
       "    <tr>\n",
       "      <th>3</th>\n",
       "      <td>0</td>\n",
       "      <td>0</td>\n",
       "      <td>0</td>\n",
       "      <td>1</td>\n",
       "      <td>0</td>\n",
       "      <td>0</td>\n",
       "      <td>0</td>\n",
       "      <td>0</td>\n",
       "      <td>0</td>\n",
       "      <td>6</td>\n",
       "      <td>9</td>\n",
       "      <td>4</td>\n",
       "      <td>6</td>\n",
       "      <td>2</td>\n",
       "      <td>9</td>\n",
       "      <td>4</td>\n",
       "      <td>0</td>\n",
       "      <td>0</td>\n",
       "    </tr>\n",
       "    <tr>\n",
       "      <th>4</th>\n",
       "      <td>0</td>\n",
       "      <td>0</td>\n",
       "      <td>0</td>\n",
       "      <td>0</td>\n",
       "      <td>0</td>\n",
       "      <td>1</td>\n",
       "      <td>0</td>\n",
       "      <td>0</td>\n",
       "      <td>0</td>\n",
       "      <td>6</td>\n",
       "      <td>9</td>\n",
       "      <td>4</td>\n",
       "      <td>6</td>\n",
       "      <td>2</td>\n",
       "      <td>9</td>\n",
       "      <td>4</td>\n",
       "      <td>0</td>\n",
       "      <td>0</td>\n",
       "    </tr>\n",
       "  </tbody>\n",
       "</table>\n",
       "</div>"
      ],
      "text/plain": [
       "   time_diff1  time_diff2  time_diff3  time_diff4  time_diff5  time_diff6  \\\n",
       "0           1           1           4           1           0         159   \n",
       "1          21          56        1921          18        1999           6   \n",
       "2           0           1           0           1           0           1   \n",
       "3           0           0           0           1           0           0   \n",
       "4           0           0           0           0           0           1   \n",
       "\n",
       "   time_diff7  time_diff8  time_diff9  #unique_sites  start_hour  day_of_week  \\\n",
       "0           0        1504           4              6           8            4   \n",
       "1           0           3           4              3           8            4   \n",
       "2           0           0           0              5           9            4   \n",
       "3           0           0           0              6           9            4   \n",
       "4           0           0           0              6           9            4   \n",
       "\n",
       "   target  N_top_site  min_popular_time  day_popular_time  mean_popular_diff  \\\n",
       "0       6           2                 8                 4                  0   \n",
       "1       6           0                 0                 0                  0   \n",
       "2       6           2                 9                 4                  0   \n",
       "3       6           2                 9                 4                  0   \n",
       "4       6           2                 9                 4                  0   \n",
       "\n",
       "   max_popular_diff  \n",
       "0                 4  \n",
       "1                 0  \n",
       "2                 0  \n",
       "3                 0  \n",
       "4                 0  "
      ]
     },
     "execution_count": 65,
     "metadata": {},
     "output_type": "execute_result"
    }
   ],
   "source": [
    "%time selected_features_150users[feature_names[:-1]] = new_features_150users[feature_names[:-1]]\n",
    "selected_features_150users.head()"
   ]
  },
  {
   "cell_type": "code",
   "execution_count": 66,
   "metadata": {
    "collapsed": true
   },
   "outputs": [],
   "source": [
    "# selected features – among (session_timespan, ..., day_of_week) and your own new ones\n",
    "with open('selected_features_10users.pkl', 'wb') as selected_features_10users_pkl:\n",
    "    pickle.dump(selected_features_10users, selected_features_10users_pkl)\n",
    "with open('selected_features_150users.pkl', 'wb') as selected_features_150users_pkl:\n",
    "    pickle.dump(selected_features_150users, selected_features_150users_pkl)"
   ]
  },
  {
   "cell_type": "markdown",
   "metadata": {},
   "source": [
    "## Пути улучшения\n",
    "Что еще можно добавить по 3 части проекта:\n",
    "- IPython-widgets, интерактив и анимация (стоящая [статья](https://habrahabr.ru/post/308162/) по этому ремеслу)\n",
    "- можно попробовать изобразить исходные данные в некотором пространстве, например, Word2Vec, потом выделить главные компоненты или t-SNE  (только пользуйтесь эффективными реализациями, не Sklearn) и раскрасить по целевому классу. Но нет гарантий, что получится что-то значимо отличающееся от каши\n",
    "."
   ]
  },
  {
   "cell_type": "code",
   "execution_count": null,
   "metadata": {
    "collapsed": true
   },
   "outputs": [],
   "source": []
  }
 ],
 "metadata": {
  "anaconda-cloud": {},
  "kernelspec": {
   "display_name": "Python 2",
   "language": "python",
   "name": "python2"
  },
  "language_info": {
   "codemirror_mode": {
    "name": "ipython",
    "version": 2
   },
   "file_extension": ".py",
   "mimetype": "text/x-python",
   "name": "python",
   "nbconvert_exporter": "python",
   "pygments_lexer": "ipython2",
   "version": "2.7.13"
  }
 },
 "nbformat": 4,
 "nbformat_minor": 1
}
